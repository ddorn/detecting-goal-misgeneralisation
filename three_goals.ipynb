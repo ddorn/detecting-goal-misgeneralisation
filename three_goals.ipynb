{
 "cells": [
  {
   "cell_type": "code",
   "execution_count": null,
   "id": "69677c152f22a9eb",
   "metadata": {
    "ExecuteTime": {
     "end_time": "2023-08-04T10:07:49.385196735Z",
     "start_time": "2023-08-04T10:07:49.370215978Z"
    }
   },
   "outputs": [],
   "source": [
    "%load_ext autoreload\n",
    "%autoreload 2"
   ]
  },
  {
   "cell_type": "code",
   "execution_count": null,
   "id": "initial_id",
   "metadata": {
    "ExecuteTime": {
     "end_time": "2023-08-04T10:08:01.038625496Z",
     "start_time": "2023-08-04T10:07:58.553059772Z"
    }
   },
   "outputs": [],
   "source": [
    "import torch\n",
    "import wandb\n",
    "from stable_baselines3 import PPO\n",
    "from stable_baselines3.common.env_util import make_vec_env\n",
    "from wandb.integration.sb3 import WandbCallback\n",
    "\n",
    "import main as M\n",
    "import three_goals as tg"
   ]
  },
  {
   "cell_type": "code",
   "execution_count": null,
   "id": "18b443ae4baaa9ff",
   "metadata": {
    "ExecuteTime": {
     "end_time": "2023-08-04T10:08:49.169304245Z",
     "start_time": "2023-08-04T10:08:48.824251916Z"
    }
   },
   "outputs": [],
   "source": [
    "env = lambda: (\n",
    "    tg.AddTrueGoalWrapper(\n",
    "        M.FlatOneHotWrapper(tg.ThreeGoalsEnv(0, 4))\n",
    "    )\n",
    ")\n",
    "print(env())\n",
    "print(env().observation_space)\n",
    "print(env().action_space)\n",
    "\n"
   ]
  },
  {
   "cell_type": "code",
   "execution_count": null,
   "id": "497ebbd187325119",
   "metadata": {
    "ExecuteTime": {
     "end_time": "2023-08-04T10:09:17.496423161Z",
     "start_time": "2023-08-04T10:09:17.434310090Z"
    }
   },
   "outputs": [],
   "source": [
    "net = tg.SwitchMLP(4, (64, 64), 2, 3, 0)\n",
    "print(net)"
   ]
  },
  {
   "cell_type": "code",
   "execution_count": null,
   "id": "20fc878272530059",
   "metadata": {
    "ExecuteTime": {
     "end_time": "2023-08-04T10:09:49.978224677Z",
     "start_time": "2023-08-04T10:09:49.928642345Z"
    }
   },
   "outputs": [],
   "source": [
    "x = torch.tensor([\n",
    "    [1.0, 2, 3, 4],\n",
    "    [4.0, 3, 2, 1],\n",
    "])\n",
    "switch_idx = [0, 2]\n",
    "switch = torch.zeros((2, 3))\n",
    "switch[range(2), switch_idx] = 1\n",
    "\n",
    "print(x)\n",
    "print(switch)\n",
    "print(net(x, switch))\n"
   ]
  },
  {
   "cell_type": "code",
   "execution_count": null,
   "id": "da550833cda11690",
   "metadata": {},
   "outputs": [],
   "source": [
    "def unique(x, *, __previous=set()):\n",
    "    \"\"\"Return the argument, if it was never seen before, otherwise raise ValueError\"\"\"\n",
    "    if x in __previous:\n",
    "        raise ValueError(f\"Duplicate value {x}\")\n",
    "    __previous.add(x)\n",
    "    return x"
   ]
  },
  {
   "cell_type": "code",
   "execution_count": null,
   "id": "4466be5caadc1e54",
   "metadata": {
    "ExecuteTime": {
     "end_time": "2023-08-04T14:44:50.919805214Z",
     "start_time": "2023-08-04T14:37:32.914893586Z"
    }
   },
   "outputs": [],
   "source": [
    "env = lambda: (\n",
    "    tg.AddTrueGoalWrapper(\n",
    "        M.FlatOneHotWrapper(tg.ThreeGoalsEnv(None, 4))\n",
    "    )\n",
    ")\n",
    "n_env = 100\n",
    "policy = PPO(\n",
    "    # \"MlpPolicy\",\n",
    "    tg.SwitchActorCriticPolicy,\n",
    "    make_vec_env(env, n_envs=n_env, seed=42),\n",
    "    policy_kwargs=dict(\n",
    "        arch_kwargs=dict(\n",
    "            switched_layer=0,\n",
    "            hidden=[64, 64],\n",
    "            out_dim=4,\n",
    "            n_switches=3,\n",
    "            l1_reg=0.0001,\n",
    "        ),\n",
    "    ),\n",
    "    verbose=2,\n",
    "    n_epochs=40,\n",
    "    n_steps=8_000 // n_env,\n",
    "    batch_size=400,\n",
    "    learning_rate=lambda f: 5e-4 * f ** 2 + 2e-5 * (1 - f ** 2),\n",
    "    # policy_kwargs=policy_kwargs,  # optimizer_kwargs=dict(weight_decay=weight_decay)),\n",
    "    # arch_kwargs=dict(net_arch=net_arch, features_extractor_class=BaseFeaturesExtractor),\n",
    "    tensorboard_log=\"run_logs\",\n",
    "    # device='cuda:1'\n",
    ")\n",
    "print(policy.policy)\n",
    "wandb.init(\n",
    "    sync_tensorboard=True,  # auto-upload sb3's tensorboard metrics\n",
    "    save_code=True,\n",
    "    notes=unique(\"\"\"\n",
    "    \n",
    "\"\"\")\n",
    ")\n",
    "policy.learn(total_timesteps=1_200_000, callback=WandbCallback(2))"
   ]
  },
  {
   "cell_type": "code",
   "execution_count": null,
   "id": "c47ac87e38547d93",
   "metadata": {
    "ExecuteTime": {
     "end_time": "2023-08-04T13:49:06.877136535Z",
     "start_time": "2023-08-04T13:49:06.846421566Z"
    }
   },
   "outputs": [],
   "source": [
    "# Lower the learning rate\n",
    "policy.lr_schedule = lambda _: 0.00002"
   ]
  },
  {
   "cell_type": "code",
   "execution_count": null,
   "id": "55c5a0f6d83e0a64",
   "metadata": {
    "ExecuteTime": {
     "end_time": "2023-08-04T14:50:31.168523697Z",
     "start_time": "2023-08-04T14:48:42.051072578Z"
    }
   },
   "outputs": [],
   "source": [
    "policy.learn(total_timesteps=300_000, reset_num_timesteps=False)"
   ]
  },
  {
   "cell_type": "code",
   "execution_count": null,
   "id": "36c422eb1efa3487",
   "metadata": {
    "ExecuteTime": {
     "end_time": "2023-08-04T14:59:25.492475235Z",
     "start_time": "2023-08-04T14:59:25.346135238Z"
    }
   },
   "outputs": [],
   "source": [
    "M.show_behavior(policy, env(), 10, width=1600, height=1400)"
   ]
  },
  {
   "cell_type": "code",
   "execution_count": null,
   "id": "4efbadfeb4c036e6",
   "metadata": {
    "ExecuteTime": {
     "end_time": "2023-08-04T13:51:36.711786824Z",
     "start_time": "2023-08-04T13:51:36.662369464Z"
    }
   },
   "outputs": [],
   "source": [
    "policy.save(\"models/switched-3goals-4x4-switch-last-2\")"
   ]
  },
  {
   "cell_type": "code",
   "execution_count": null,
   "id": "7257d5ad74724bd6",
   "metadata": {
    "ExecuteTime": {
     "end_time": "2023-08-04T13:52:00.098561008Z",
     "start_time": "2023-08-04T13:52:00.043283317Z"
    }
   },
   "outputs": [],
   "source": [
    "net = policy.policy.mlp_extractor.policy_net\n",
    "net: tg.SwitchMLP\n",
    "print(policy.policy)"
   ]
  },
  {
   "cell_type": "code",
   "execution_count": null,
   "id": "26fbf0b3d0094226",
   "metadata": {
    "ExecuteTime": {
     "end_time": "2023-08-04T10:37:57.235806608Z",
     "start_time": "2023-08-04T10:37:57.192532459Z"
    }
   },
   "outputs": [],
   "source": [
    "env().ALL_CELLS"
   ]
  },
  {
   "cell_type": "code",
   "execution_count": null,
   "id": "98880bdaeff5779a",
   "metadata": {},
   "outputs": [],
   "source": [
    "PPO.load(\"models/\")"
   ]
  },
  {
   "cell_type": "code",
   "execution_count": null,
   "id": "9c4133102ea0ef53",
   "metadata": {
    "ExecuteTime": {
     "end_time": "2023-08-04T17:28:27.433651604Z",
     "start_time": "2023-08-04T17:28:27.311538892Z"
    }
   },
   "outputs": [],
   "source": [
    "def imshow(x, **kwargs):\n",
    "    w, h = x.shape[-2:]\n",
    "    width = 50 + h * 25\n",
    "    height = w * 25 + 50 * ('title' in kwargs)\n",
    "    while width < 500 and height < 500:\n",
    "        print(width, height)\n",
    "        width *= 2\n",
    "        height *= 2\n",
    "    new = dict(\n",
    "        width=max(300, width),\n",
    "        height=max(300, height),\n",
    "        facet_row_spacing=0.01,\n",
    "        facet_col_spacing=0.01,\n",
    "    )\n",
    "    kwargs = {**new, **kwargs}\n",
    "    print(kwargs)\n",
    "    px.imshow(x, **kwargs).show()\n",
    "\n",
    "\n",
    "imshow(policy.policy.mlp_extractor.switch_biases)"
   ]
  },
  {
   "cell_type": "code",
   "execution_count": null,
   "id": "e14f1569b1d07b04",
   "metadata": {
    "ExecuteTime": {
     "end_time": "2023-08-04T17:26:48.347683360Z",
     "start_time": "2023-08-04T17:26:48.014105123Z"
    }
   },
   "outputs": [],
   "source": [
    "import einops\n",
    "# Plot the three switch layers\n",
    "import plotly.express as px\n",
    "\n",
    "switch_layers_weights = policy.policy.mlp_extractor.switch_weights\n",
    "\n",
    "# shape of a switch (out_dim, row, col, obj_type)\n",
    "w1 = einops.rearrange(switch_layers_weights, 'agent out_dim (row col obj_type) -> agent obj_type out_dim row col', row=4, col=4)\n",
    "b1 = einops.repeat(policy.policy.mlp_extractor.switch_biases, 'agent out_dim -> agent 1 out_dim 4 1')\n",
    "\n",
    "avg = w1.mean(dim=0)\n",
    "TYPES = ['empty', 'agent', 'goal_red', 'goal_green', 'goal_blue']\n",
    "EMPTY, AGENT, RED, GREEN, BLUE = range(5)\n",
    "\n",
    "print(w1.shape, avg.shape)\n",
    "# d = w1[:, EMPTY] - avg[EMPTY] \n",
    "d = avg\n",
    "\n",
    "d = w1\n",
    "print(d.shape)\n",
    "# Add one black col\n",
    "d = torch.cat([d, torch.zeros(*d.shape[:-1], 1) + float('nan')], dim=-1)\n",
    "d = torch.cat([d, torch.zeros(*d.shape[:-2], 1, d.shape[-1]) + float('nan')], dim=-2)\n",
    "d = einops.rearrange(d, 'agent obj out row col -> out (agent row) (obj col)')[..., :-1, :]\n",
    "b1 = torch.cat([b1, torch.zeros(*b1.shape[:-2], 1, b1.shape[-1]) + float('nan')], dim=-2)\n",
    "b1 = einops.rearrange(b1, 'agent obj out row col -> out (agent row) (obj col)')[..., :-1, :]\n",
    "print(d.shape, b1.shape)\n",
    "d = torch.cat([d, b1], dim=-1)\n",
    "# Remove weights close to zero\n",
    "# d[abs(d) < 0.1] = float('nan')\n",
    "imshow(d, title='First layer weights', facet_col=0, facet_col_wrap=4,\n",
    "          height=4000,\n",
    "          width=None,\n",
    "          color_continuous_scale='RdBu',\n",
    "          color_continuous_midpoint=0,\n",
    "          zmax=0.6,\n",
    "          zmin=-0.6,\n",
    "          )\n"
   ]
  },
  {
   "cell_type": "code",
   "execution_count": null,
   "id": "451389ecd3d25bf5",
   "metadata": {
    "ExecuteTime": {
     "end_time": "2023-08-04T17:28:43.022330002Z",
     "start_time": "2023-08-04T17:28:42.892736094Z"
    }
   },
   "outputs": [],
   "source": [
    "imshow(w1.flatten(2).mean(dim=2),\n",
    "          title=\"Mean of the weights of the switch layers\",\n",
    "          labels=dict(x=\"Object type\", y=\"Agent\"),\n",
    "          )\n",
    "imshow(w1.flatten(2).abs().mean(dim=2), \n",
    "          title=\"Mean absolute value of the weights of the switch layers\",\n",
    "          labels=dict(x=\"Object type\", y=\"Agent\"),\n",
    "          width=800,\n",
    "          )\n",
    "imshow(w1.flatten(2).std(dim=2),\n",
    "            title=\"Std of the weights of the switch layers\",\n",
    "            labels=dict(x=\"Object type\", y=\"Agent\"),\n",
    "            width=800,\n",
    "          )\n"
   ]
  },
  {
   "cell_type": "code",
   "execution_count": null,
   "id": "675396154733477f",
   "metadata": {
    "ExecuteTime": {
     "end_time": "2023-08-04T14:05:11.865257372Z",
     "start_time": "2023-08-04T14:05:11.798495448Z"
    }
   },
   "outputs": [],
   "source": [
    "last_layer: torch.nn.Linear = policy.policy.action_net\n",
    "last_weights = last_layer.weight.detach().cpu().clone()\n",
    "last_bias = last_layer.bias.detach().cpu().clone()\n",
    "\n",
    "weights = torch.cat([\n",
    "    last_weights.T @ net.switches[i].weight.detach().cpu().clone()\n",
    "    for i in range(3)\n",
    "], dim=0)\n",
    "imshow(weights)\n",
    "\n",
    "biases = torch.stack([net.switches[i].bias.detach().cpu() for i in range(3)], dim=1)\n",
    "imshow(biases)"
   ]
  },
  {
   "cell_type": "code",
   "execution_count": null,
   "id": "18b34be96b254156",
   "metadata": {
    "ExecuteTime": {
     "end_time": "2023-08-04T11:37:59.910871518Z",
     "start_time": "2023-08-04T11:37:59.814717289Z"
    }
   },
   "outputs": [],
   "source": [
    "# compute correlations between rows of w2\n",
    "w2 = net.post_switch[1].weight.detach().cpu().clone()  # (64, 64)\n",
    "w2 = w2 / w2.norm(dim=1, keepdim=True)\n",
    "corr = w2 @ w2.T\n",
    "\n",
    "# Cluster the correlations matrix\n",
    "import scipy.cluster.hierarchy as sch\n",
    "import scipy.spatial.distance as ssd\n",
    "import plotly.figure_factory as ff\n",
    "\n",
    "# Compute and plot first dendrogram.\n",
    "fig = ff.create_dendrogram(\n",
    "    corr.numpy(),\n",
    "    orientation='left',\n",
    "    labels=list(range(64)),\n",
    "    linkagefun=lambda x: sch.linkage(x, 'single'),\n",
    "    distfun=lambda x: ssd.pdist(x, 'euclidean'),\n",
    ")\n",
    "fig.update_layout(width=1000, height=1000)\n",
    "fig.show()\n",
    "\n",
    "# Remove the diagonal\n",
    "corr[range(64), range(64)] = float('nan')\n",
    "px.imshow(corr, width=1000, height=1000)"
   ]
  }
 ],
 "metadata": {
  "kernelspec": {
   "display_name": "Python 3 (ipykernel)",
   "language": "python",
   "name": "python3"
  },
  "language_info": {
   "codemirror_mode": {
    "name": "ipython",
    "version": 2
   },
   "file_extension": ".py",
   "mimetype": "text/x-python",
   "name": "python",
   "nbconvert_exporter": "python",
   "pygments_lexer": "ipython2",
   "version": "2.7.6"
  }
 },
 "nbformat": 4,
 "nbformat_minor": 5
}
