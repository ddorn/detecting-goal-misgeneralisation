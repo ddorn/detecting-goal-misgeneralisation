{
 "cells": [
  {
   "cell_type": "code",
   "execution_count": null,
   "metadata": {
    "ExecuteTime": {
     "end_time": "2023-07-28T16:18:05.946293806Z",
     "start_time": "2023-07-28T16:18:05.938675544Z"
    }
   },
   "outputs": [],
   "source": [
    "import torch\n",
    "import einops"
   ]
  },
  {
   "cell_type": "code",
   "execution_count": null,
   "metadata": {
    "ExecuteTime": {
     "end_time": "2023-07-29T11:11:25.520166402Z",
     "start_time": "2023-07-29T11:11:25.513121744Z"
    }
   },
   "outputs": [],
   "source": [
    "model = torch.load(\"models/permutation-of-matrices-3x3-99acc-4_4arch-3.pt\")\n",
    "model = torch.load(\"models/permutation-of-matrices-noisy-3x3-97acc-4_4arch-5.pt\")\n",
    "model"
   ]
  },
  {
   "cell_type": "code",
   "execution_count": null,
   "metadata": {
    "ExecuteTime": {
     "end_time": "2023-07-29T11:11:28.560261578Z",
     "start_time": "2023-07-29T11:11:28.451660230Z"
    }
   },
   "outputs": [],
   "source": [
    "# Plotting the biases\n",
    "b1 = model[1].bias.data\n",
    "b2 = model[3].bias.data\n",
    "b3 = model[5].bias.data\n",
    "bias = torch.stack([b1, b2], dim=1)\n",
    "\n",
    "px.line(bias).show()\n",
    "print(b3)"
   ]
  },
  {
   "cell_type": "code",
   "execution_count": null,
   "metadata": {
    "ExecuteTime": {
     "end_time": "2023-07-29T11:11:50.103940701Z",
     "start_time": "2023-07-29T11:11:50.099338241Z"
    }
   },
   "outputs": [],
   "source": [
    "w1 = model[1].weight.data\n",
    "w1 = einops.rearrange(w1, \"out (mat row col) -> out mat row col\", mat=2, row=3, col=3)\n",
    "\n",
    "w2 = model[3].weight.data\n",
    "\n",
    "w3 = model[5].weight.data\n",
    "\n",
    "w1.shape, w2.shape, w3.shape"
   ]
  },
  {
   "cell_type": "code",
   "execution_count": null,
   "metadata": {
    "ExecuteTime": {
     "end_time": "2023-07-29T11:11:57.499038952Z",
     "start_time": "2023-07-29T11:11:57.426839031Z"
    }
   },
   "outputs": [],
   "source": [
    "import plotly.express as px\n",
    "\n",
    "torch.flatten(w1[0:10], 0, 1).shape\n",
    "\n",
    "px.imshow(w1[24:36].flatten(0, 1), facet_col=0, facet_col_wrap=4,\n",
    "          width=1600, height=3000)\n"
   ]
  },
  {
   "cell_type": "code",
   "execution_count": null,
   "metadata": {
    "ExecuteTime": {
     "end_time": "2023-07-29T11:13:25.578633429Z",
     "start_time": "2023-07-29T11:13:25.534428853Z"
    }
   },
   "outputs": [],
   "source": [
    "px.imshow(w2, height=1000)"
   ]
  },
  {
   "cell_type": "code",
   "execution_count": null,
   "metadata": {
    "ExecuteTime": {
     "end_time": "2023-07-29T11:13:30.751262738Z",
     "start_time": "2023-07-29T11:13:30.710126913Z"
    }
   },
   "outputs": [],
   "source": [
    "px.line(w3.T)"
   ]
  },
  {
   "cell_type": "code",
   "execution_count": null,
   "metadata": {
    "ExecuteTime": {
     "end_time": "2023-07-28T16:44:35.847255541Z",
     "start_time": "2023-07-28T16:44:35.805233764Z"
    }
   },
   "outputs": [],
   "source": [
    "neuron = 51  # of layer 2\n",
    "print(b2[neuron])\n",
    "px.line(w2[neuron])"
   ]
  }
 ],
 "metadata": {
  "kernelspec": {
   "display_name": "Python 3",
   "language": "python",
   "name": "python3"
  },
  "language_info": {
   "codemirror_mode": {
    "name": "ipython",
    "version": 2
   },
   "file_extension": ".py",
   "mimetype": "text/x-python",
   "name": "python",
   "nbconvert_exporter": "python",
   "pygments_lexer": "ipython2",
   "version": "2.7.6"
  }
 },
 "nbformat": 4,
 "nbformat_minor": 0
}
