{
 "cells": [
  {
   "cell_type": "code",
   "execution_count": null,
   "metadata": {
    "ExecuteTime": {
     "end_time": "2023-07-24T16:29:46.221757504Z",
     "start_time": "2023-07-24T16:29:45.516254184Z"
    }
   },
   "outputs": [],
   "source": [
    "from __future__ import annotations\n",
    "\n",
    "import dataclasses\n",
    "import json\n",
    "import pickle\n",
    "import random\n",
    "import re\n",
    "from pathlib import Path\n",
    "\n",
    "import pandas as pd\n",
    "import plotly.express as px\n",
    "from joblib import Parallel, delayed\n",
    "from stable_baselines3 import PPO\n",
    "from tqdm.autonotebook import tqdm\n",
    "\n",
    "import main as M\n",
    "\n",
    "\n",
    "%load_ext autoreload\n",
    "%autoreload 2"
   ]
  },
  {
   "cell_type": "code",
   "execution_count": null,
   "metadata": {
    "ExecuteTime": {
     "end_time": "2023-07-24T15:53:58.757330536Z",
     "start_time": "2023-07-24T15:53:58.726036843Z"
    }
   },
   "outputs": [],
   "source": [
    "print(\"Action space:\", M.RANDOM_GOAL_ENV.action_space)\n",
    "print(\"Observation space:\", M.RANDOM_GOAL_ENV.observation_space)\n",
    "\n",
    "agent_files = list(Path(\"agents\").glob(\"*.zip\"))\n",
    "print(\"Number of agents:\", len(agent_files))"
   ]
  },
  {
   "cell_type": "code",
   "execution_count": null,
   "metadata": {
    "ExecuteTime": {
     "end_time": "2023-07-24T12:34:46.485898098Z",
     "start_time": "2023-07-24T12:34:46.442530950Z"
    }
   },
   "outputs": [],
   "source": [
    "def get_random_agent():\n",
    "    file = random.choice(agent_files)\n",
    "    print(\"Loading agent:\", file)\n",
    "    return PPO.load(file)\n",
    "\n",
    "policy = get_random_agent()\n",
    "print(\"Policy:\", policy.policy)\n",
    "print(\"Model size:\", sum(p.numel() for p in policy.policy.parameters()))"
   ]
  },
  {
   "cell_type": "markdown",
   "metadata": {
    "collapsed": false
   },
   "source": [
    "## Baseline\n",
    "\n",
    "Agent that always goes to the bottom right corner"
   ]
  },
  {
   "cell_type": "code",
   "execution_count": null,
   "metadata": {
    "ExecuteTime": {
     "end_time": "2023-07-24T15:42:51.404868550Z",
     "start_time": "2023-07-24T15:41:38.543254185Z"
    }
   },
   "outputs": [],
   "source": [
    "env_size = 9\n",
    "M.Perfs.from_agent(M.BottomRightAgent(), episodes=1000, env_size=env_size)"
   ]
  },
  {
   "cell_type": "code",
   "execution_count": null,
   "metadata": {},
   "outputs": [],
   "source": [
    "M.show_behavior(M.BottomRightAgent(), M.random_goal_env(env_size), 40)"
   ]
  },
  {
   "cell_type": "markdown",
   "metadata": {
    "collapsed": false
   },
   "source": [
    "## Perfomances of agents"
   ]
  },
  {
   "cell_type": "code",
   "execution_count": null,
   "metadata": {
    "ExecuteTime": {
     "end_time": "2023-07-24T17:00:28.914972908Z",
     "start_time": "2023-07-24T17:00:28.541232551Z"
    }
   },
   "outputs": [],
   "source": [
    "agent_files = list(Path(\"agents\").glob(\"*.zip\"))\n",
    "agent_files = list(Path(\"agents\").glob(\"ppo_7env*.zip\"))\n",
    "\n",
    "print(\"Number of agents:\", len(agent_files))\n",
    "\n",
    "def get_perfs(file: Path) -> M.Perfs:\n",
    "    if file.with_suffix(\".json\").exists():\n",
    "        return M.Perfs(**json.load(open(file.with_suffix(\".json\"), \"r\")))\n",
    "    else:\n",
    "        env_size = int(re.search(r\"(\\d+)env\", str(file)).group(1))\n",
    "        perf = M.Perfs.from_agent(PPO.load(file), file=str(file), env_size=env_size)\n",
    "        json.dump(dataclasses.asdict(perf), open(file.with_suffix(\".json\"), \"w\"))\n",
    "        return perf\n",
    "\n",
    "perfs = list(\n",
    "    Parallel(n_jobs=-3)(\n",
    "        delayed(get_perfs)(file)\n",
    "        for file in tqdm(agent_files)\n",
    "    )\n",
    ")"
   ]
  },
  {
   "cell_type": "code",
   "execution_count": null,
   "metadata": {
    "ExecuteTime": {
     "end_time": "2023-07-24T17:06:08.703999193Z",
     "start_time": "2023-07-24T17:06:08.615746794Z"
    }
   },
   "outputs": [],
   "source": [
    "# Scatter plot of the perfs, 2 by 2\n",
    "df = pd.DataFrame(\n",
    "    dict(\n",
    "        br_env=[p.br_env for p in perfs],\n",
    "        general_env=[p.general_env for p in perfs],\n",
    "        general_br_freq=[p.general_br_freq for p in perfs],\n",
    "        file=[str(p.info[\"file\"]) for p in perfs],\n",
    "        odds=[\n",
    "            int(re.search(r\"(\\d+)odds\", str(p.info[\"file\"])).group(1)) for p in perfs\n",
    "        ],\n",
    "    )\n",
    ")\n",
    "\n",
    "# Plot the perfs for agent with br_env > 0.9\n",
    "px.scatter(\n",
    "    df[df.br_env > 0.9],\n",
    "    x=\"general_br_freq\",\n",
    "    y=\"general_env\",\n",
    "    color=\"odds\",\n",
    "    hover_name=\"file\",\n",
    "    width=1000,\n",
    "    height=800,\n",
    "    title=\"Performances of agents in a 5×5 environment with random goals.\",\n",
    "    labels=dict(\n",
    "        general_br_freq=\"Probability of going in the bottom right corner, regardless of where the goal is\",\n",
    "        general_env=\"Probability of reaching the goal\",\n",
    "        odds=\"Odds of goal being<br>the bottom right corner\",\n",
    "    ),\n",
    ").show()"
   ]
  },
  {
   "cell_type": "code",
   "execution_count": null,
   "metadata": {
    "ExecuteTime": {
     "end_time": "2023-07-24T18:19:04.893327567Z",
     "start_time": "2023-07-24T18:15:01.484581101Z"
    }
   },
   "outputs": [],
   "source": [
    "import train\n",
    "\n",
    "policy, perfs = train.get_agent(1/25, 100_000, net_arch=(10, 10), env_size=7, save=False, learning_rate=0.0001)"
   ]
  },
  {
   "cell_type": "code",
   "execution_count": null,
   "metadata": {
    "ExecuteTime": {
     "end_time": "2023-07-24T17:30:38.526142449Z",
     "start_time": "2023-07-24T17:30:38.489381457Z"
    }
   },
   "outputs": [],
   "source": [
    "# Print size of the model\n",
    "print(\"Model size:\", sum(p.numel() for p in policy.policy.parameters()))\n",
    "policy.policy"
   ]
  },
  {
   "cell_type": "code",
   "execution_count": null,
   "metadata": {
    "ExecuteTime": {
     "end_time": "2023-07-25T10:48:40.744766554Z",
     "start_time": "2023-07-25T10:48:39.408304477Z"
    }
   },
   "outputs": [],
   "source": [
    "M.show_behavior(policy, M.random_goal_env(7), 20)"
   ]
  },
  {
   "cell_type": "markdown",
   "metadata": {
    "collapsed": false
   },
   "source": [
    "# Try 2"
   ]
  },
  {
   "cell_type": "code",
   "execution_count": null,
   "metadata": {},
   "outputs": [],
   "source": []
  },
  {
   "cell_type": "code",
   "execution_count": null,
   "metadata": {
    "ExecuteTime": {
     "end_time": "2023-07-25T11:42:46.049678744Z",
     "start_time": "2023-07-25T11:41:13.188622503Z"
    }
   },
   "outputs": [],
   "source": [
    "import train\n",
    "\n",
    "policy, perfs = train.get_agent(1000, 40_000, net_arch=(30, 10), env_size=7, save=False, use_wandb=True)"
   ]
  },
  {
   "cell_type": "code",
   "execution_count": null,
   "metadata": {
    "ExecuteTime": {
     "end_time": "2023-07-25T10:48:19.981264253Z",
     "start_time": "2023-07-25T10:48:19.656152630Z"
    }
   },
   "outputs": [],
   "source": [
    "M.show_behavior(policy, M.random_goal_env(7), 20)"
   ]
  },
  {
   "cell_type": "code",
   "execution_count": null,
   "metadata": {
    "ExecuteTime": {
     "end_time": "2023-07-24T11:27:30.326264012Z",
     "start_time": "2023-07-24T11:17:36.618821114Z"
    }
   },
   "outputs": [],
   "source": [
    "new_agents = []\n",
    "for _ in range(10):\n",
    "    policy, perfs = train.get_agent(50, 30_000, net_arch=(30, 10), env_size=5, save=False)\n",
    "    new_agents.append((policy, perfs))\n",
    "\n",
    "for _, perf in new_agents:\n",
    "    print(perf)"
   ]
  },
  {
   "cell_type": "code",
   "execution_count": null,
   "metadata": {
    "ExecuteTime": {
     "end_time": "2023-07-21T17:22:35.380359022Z",
     "start_time": "2023-07-21T17:22:35.359967649Z"
    }
   },
   "outputs": [],
   "source": [
    "policy.save(\"agents/old/learned_size7.\")"
   ]
  },
  {
   "cell_type": "code",
   "execution_count": null,
   "metadata": {
    "ExecuteTime": {
     "end_time": "2023-07-25T11:28:43.806246093Z",
     "start_time": "2023-07-25T11:28:43.662522392Z"
    }
   },
   "outputs": [],
   "source": [
    "M.show_behavior(policy, M.random_goal_env(7), 10, 15)\n",
    "# M.show_behavior(policy, br_env(5), 40, 15)"
   ]
  },
  {
   "cell_type": "markdown",
   "metadata": {
    "collapsed": false
   },
   "source": [
    "# Hyperparameter search for agents"
   ]
  },
  {
   "cell_type": "code",
   "execution_count": null,
   "metadata": {
    "ExecuteTime": {
     "end_time": "2023-07-25T11:43:23.186243192Z",
     "start_time": "2023-07-25T11:43:23.142836168Z"
    }
   },
   "outputs": [],
   "source": []
  },
  {
   "cell_type": "code",
   "execution_count": null,
   "metadata": {},
   "outputs": [],
   "source": [
    "wandb.sweep(sweep=config)"
   ]
  }
 ],
 "metadata": {
  "kernelspec": {
   "display_name": "Python 3 (ipykernel)",
   "language": "python",
   "name": "python3"
  },
  "language_info": {
   "codemirror_mode": {
    "name": "ipython",
    "version": 3
   },
   "file_extension": ".py",
   "mimetype": "text/x-python",
   "name": "python",
   "nbconvert_exporter": "python",
   "pygments_lexer": "ipython3",
   "version": "3.11.3"
  }
 },
 "nbformat": 4,
 "nbformat_minor": 1
}
