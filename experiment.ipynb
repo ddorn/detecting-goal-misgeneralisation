{
 "cells": [
  {
   "cell_type": "code",
   "execution_count": null,
   "metadata": {
    "ExecuteTime": {
     "end_time": "2023-07-26T10:56:06.768415248Z",
     "start_time": "2023-07-26T10:56:05.133085603Z"
    }
   },
   "outputs": [],
   "source": [
    "from __future__ import annotations\n",
    "\n",
    "import dataclasses\n",
    "import json\n",
    "import pickle\n",
    "import random\n",
    "import re\n",
    "from pathlib import Path\n",
    "from pprint import pprint\n",
    "\n",
    "import pandas as pd\n",
    "import plotly.express as px\n",
    "from joblib import Parallel, delayed\n",
    "from stable_baselines3 import PPO\n",
    "from stable_baselines3.common.torch_layers import FlattenExtractor, BaseFeaturesExtractor\n",
    "from tqdm.autonotebook import tqdm\n",
    "\n",
    "import typeguard\n",
    "import jaxtyping\n",
    "\n",
    "import main as M\n",
    "\n",
    "\n",
    "%load_ext autoreload\n",
    "%autoreload 2"
   ]
  },
  {
   "cell_type": "code",
   "execution_count": null,
   "metadata": {
    "ExecuteTime": {
     "end_time": "2023-07-26T10:58:22.142914885Z",
     "start_time": "2023-07-26T10:58:22.118276839Z"
    }
   },
   "outputs": [],
   "source": [
    "print(\"Action space:\", M.RANDOM_GOAL_ENV.action_space)\n",
    "print(\"Observation space:\", M.RANDOM_GOAL_ENV.observation_space)\n",
    "\n",
    "agent_files = list(Path(\"agents\").glob(\"*.zip\"))\n",
    "print(\"Number of trained agents:\", len(agent_files))"
   ]
  },
  {
   "cell_type": "code",
   "execution_count": null,
   "metadata": {
    "ExecuteTime": {
     "end_time": "2023-07-25T18:10:50.227921793Z",
     "start_time": "2023-07-25T18:10:50.177431772Z"
    }
   },
   "outputs": [],
   "source": [
    "policy = PPO.load(\"agents/ppo_7env_70000steps_000gen_000br_047br_wrong_2odds_1690215942.zip\")\n",
    "policy.policy"
   ]
  },
  {
   "cell_type": "markdown",
   "metadata": {
    "collapsed": false
   },
   "source": [
    "## Baseline\n",
    "\n",
    "Agent that always goes to the bottom right corner"
   ]
  },
  {
   "cell_type": "code",
   "execution_count": null,
   "metadata": {
    "ExecuteTime": {
     "end_time": "2023-07-25T18:33:35.481043089Z",
     "start_time": "2023-07-25T18:33:22.221681534Z"
    }
   },
   "outputs": [],
   "source": [
    "env_size = 7\n",
    "M.Perfs.from_agent(M.BottomRightAgent(), episodes=100, env_size=env_size)"
   ]
  },
  {
   "cell_type": "code",
   "execution_count": null,
   "metadata": {
    "ExecuteTime": {
     "end_time": "2023-07-25T18:33:43.302805820Z",
     "start_time": "2023-07-25T18:33:42.524399132Z"
    }
   },
   "outputs": [],
   "source": [
    "M.show_behavior(M.BottomRightAgent(), M.random_goal_env(env_size))"
   ]
  },
  {
   "cell_type": "markdown",
   "metadata": {
    "collapsed": false
   },
   "source": [
    "# Training agents"
   ]
  },
  {
   "cell_type": "code",
   "execution_count": null,
   "metadata": {
    "ExecuteTime": {
     "end_time": "2023-07-25T18:41:09.047101329Z",
     "start_time": "2023-07-25T18:41:08.846821501Z"
    }
   },
   "outputs": [],
   "source": [
    "import transformer\n",
    "env = M.random_goal_env(7)\n",
    "print(env.__class__.__mro__)\n",
    "print(env.observation_space)\n",
    "transformer.CustomActorCriticPolicy(env.observation_space, env.action_space, lr_schedule=lambda _: 0.01,\n",
    "                                    policy_kwargs=dict(d_model=32))"
   ]
  },
  {
   "cell_type": "code",
   "execution_count": null,
   "metadata": {
    "ExecuteTime": {
     "end_time": "2023-07-26T11:24:09.742860699Z",
     "start_time": "2023-07-26T11:22:46.760499455Z"
    }
   },
   "outputs": [],
   "source": [
    "import train\n",
    "import transformer\n",
    "\n",
    "env_size = 7\n",
    "env = M.random_goal_env(env_size)\n",
    "print(env.observation_space)\n",
    "# For bottom_right_odds, None means uniform, 3 means three times more likely to be bottom right than anywhere else\n",
    "policy, perfs = train.get_agent(\n",
    "    bottom_right_prob=None,\n",
    "    total_timesteps=40_000,\n",
    "    net_arch=(100, 100),\n",
    "    n_epochs=40,\n",
    "    n_steps=6_000,\n",
    "    batch_size=100,\n",
    "    learning_rate=0.005,\n",
    "    env_size=env_size,\n",
    "    # policy=transformer.CustomActorCriticPolicy,\n",
    "    # policy_kwargs=dict(features_extractor_class=transformer.CustomFeaturesExtractor, arch=dict(d_model=20, d_head=6, heads=3, layers=1)),\n",
    "    save=False)\n",
    "\n",
    "pprint(perfs)"
   ]
  },
  {
   "cell_type": "code",
   "execution_count": null,
   "metadata": {},
   "outputs": [],
   "source": [
    "policy.learn(20_000)"
   ]
  },
  {
   "cell_type": "code",
   "execution_count": null,
   "metadata": {
    "ExecuteTime": {
     "end_time": "2023-07-25T20:49:17.519569312Z",
     "start_time": "2023-07-25T20:49:17.491820763Z"
    }
   },
   "outputs": [],
   "source": [
    "import torchinfo\n",
    "torchinfo.summary(policy.policy, input_size=(1, 3, 3, 7), depth=4)"
   ]
  },
  {
   "cell_type": "code",
   "execution_count": null,
   "metadata": {
    "ExecuteTime": {
     "end_time": "2023-07-26T11:21:40.521624255Z",
     "start_time": "2023-07-26T11:21:40.451120291Z"
    }
   },
   "outputs": [],
   "source": [
    "M.show_behavior(policy, M.random_goal_env(), 20)"
   ]
  },
  {
   "cell_type": "code",
   "execution_count": null,
   "metadata": {},
   "outputs": [],
   "source": [
    "# Print size of the model\n",
    "print(\"Model size:\", sum(p.numel() for p in policy.policy.parameters()))"
   ]
  },
  {
   "cell_type": "markdown",
   "metadata": {
    "collapsed": false
   },
   "source": [
    "# Perfomances of agents"
   ]
  },
  {
   "cell_type": "code",
   "execution_count": null,
   "metadata": {
    "ExecuteTime": {
     "end_time": "2023-07-24T17:00:28.914972908Z",
     "start_time": "2023-07-24T17:00:28.541232551Z"
    }
   },
   "outputs": [],
   "source": [
    "agent_files = list(Path(\"agents\").glob(\"*.zip\"))\n",
    "agent_files = list(Path(\"agents\").glob(\"ppo_7env*.zip\"))\n",
    "\n",
    "print(\"Number of agents:\", len(agent_files))\n",
    "\n",
    "def get_perfs(file: Path) -> M.Perfs:\n",
    "    if file.with_suffix(\".json\").exists():\n",
    "        return M.Perfs(**json.load(open(file.with_suffix(\".json\"), \"r\")))\n",
    "    else:\n",
    "        env_size = int(re.search(r\"(\\d+)env\", str(file)).group(1))\n",
    "        perf = M.Perfs.from_agent(PPO.load(file), file=str(file), env_size=env_size)\n",
    "        json.dump(dataclasses.asdict(perf), open(file.with_suffix(\".json\"), \"w\"))\n",
    "        return perf\n",
    "\n",
    "perfs = list(\n",
    "    Parallel(n_jobs=-3)(\n",
    "        delayed(get_perfs)(file)\n",
    "        for file in tqdm(agent_files)\n",
    "    )\n",
    ")"
   ]
  },
  {
   "cell_type": "code",
   "execution_count": null,
   "metadata": {
    "ExecuteTime": {
     "end_time": "2023-07-24T17:06:08.703999193Z",
     "start_time": "2023-07-24T17:06:08.615746794Z"
    }
   },
   "outputs": [],
   "source": [
    "# Scatter plot of the perfs, 2 by 2\n",
    "df = pd.DataFrame(\n",
    "    dict(\n",
    "        br_env=[p.br_env for p in perfs],\n",
    "        general_env=[p.general_env for p in perfs],\n",
    "        general_br_freq=[p.general_br_freq for p in perfs],\n",
    "        file=[str(p.info[\"file\"]) for p in perfs],\n",
    "        odds=[\n",
    "            int(re.search(r\"(\\d+)odds\", str(p.info[\"file\"])).group(1)) for p in perfs\n",
    "        ],\n",
    "    )\n",
    ")\n",
    "\n",
    "# Plot the perfs for agent with br_env > 0.9\n",
    "px.scatter(\n",
    "    df[df.br_env > 0.9],\n",
    "    x=\"general_br_freq\",\n",
    "    y=\"general_env\",\n",
    "    color=\"odds\",\n",
    "    hover_name=\"file\",\n",
    "    width=1000,\n",
    "    height=800,\n",
    "    title=\"Performances of agents in a 5×5 environment with random goals.\",\n",
    "    labels=dict(\n",
    "        general_br_freq=\"Probability of going in the bottom right corner, regardless of where the goal is\",\n",
    "        general_env=\"Probability of reaching the goal\",\n",
    "        odds=\"Odds of goal being<br>the bottom right corner\",\n",
    "    ),\n",
    ").show()"
   ]
  }
 ],
 "metadata": {
  "kernelspec": {
   "display_name": "Python 3 (ipykernel)",
   "language": "python",
   "name": "python3"
  },
  "language_info": {
   "codemirror_mode": {
    "name": "ipython",
    "version": 3
   },
   "file_extension": ".py",
   "mimetype": "text/x-python",
   "name": "python",
   "nbconvert_exporter": "python",
   "pygments_lexer": "ipython3",
   "version": "3.11.3"
  }
 },
 "nbformat": 4,
 "nbformat_minor": 1
}
