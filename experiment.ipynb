{
 "cells": [
  {
   "cell_type": "code",
   "execution_count": null,
   "metadata": {
    "ExecuteTime": {
     "end_time": "2023-07-24T12:34:35.187438623Z",
     "start_time": "2023-07-24T12:34:29.635115639Z"
    }
   },
   "outputs": [],
   "source": [
    "from __future__ import annotations\n",
    "\n",
    "import pickle\n",
    "import random\n",
    "import re\n",
    "from pathlib import Path\n",
    "\n",
    "import pandas as pd\n",
    "import plotly.express as px\n",
    "from joblib import Parallel, delayed\n",
    "from stable_baselines3 import PPO\n",
    "from tqdm.autonotebook import tqdm\n",
    "\n",
    "import main as M\n",
    "\n",
    "\n",
    "%load_ext autoreload\n",
    "%autoreload 2"
   ]
  },
  {
   "cell_type": "code",
   "execution_count": null,
   "metadata": {
    "ExecuteTime": {
     "end_time": "2023-07-24T12:34:35.223995217Z",
     "start_time": "2023-07-24T12:34:35.161733661Z"
    }
   },
   "outputs": [],
   "source": [
    "print(\"Action space:\", M.RANDOM_GOAL_ENV.action_space)\n",
    "print(\"Observation space:\", M.RANDOM_GOAL_ENV.observation_space)\n",
    "\n",
    "agent_files = list(Path(\"agents\").glob(\"*.zip\"))\n",
    "print(f\"Collected {len(agent_files)} agents\")"
   ]
  },
  {
   "cell_type": "code",
   "execution_count": null,
   "metadata": {
    "ExecuteTime": {
     "end_time": "2023-07-24T12:34:46.485898098Z",
     "start_time": "2023-07-24T12:34:46.442530950Z"
    }
   },
   "outputs": [],
   "source": [
    "def get_random_agent():\n",
    "    file = random.choice(agent_files)\n",
    "    print(\"Loading agent:\", file)\n",
    "    return PPO.load(file)"
   ]
  },
  {
   "cell_type": "code",
   "execution_count": null,
   "metadata": {
    "ExecuteTime": {
     "end_time": "2023-07-24T12:34:48.119457260Z",
     "start_time": "2023-07-24T12:34:48.024048070Z"
    }
   },
   "outputs": [],
   "source": [
    "policy = get_random_agent()\n",
    "print(\"Policy:\", policy.policy)\n",
    "print(\"Model size:\", sum(p.numel() for p in policy.policy.parameters()))"
   ]
  },
  {
   "cell_type": "code",
   "execution_count": null,
   "metadata": {
    "ExecuteTime": {
     "end_time": "2023-07-24T10:01:46.887272522Z",
     "start_time": "2023-07-24T10:01:43.175654825Z"
    }
   },
   "outputs": [],
   "source": [
    "policy = get_random_agent()\n",
    "# M.eval_agent(policy, M.RANDOM_GOAL_ENV, end_condition=lambda locals_: locals_[\"env\"].agent_pos == (3, 3))\n",
    "M.Perfs.from_agent(policy)\n",
    "# M.show_behavior(policy, M.RANDOM_GOAL_ENV, 40)\n",
    "# M.show_behavior(policy, M.BR_GOAL_ENV, 10)\n",
    "# M.eval_agent(policy, plot=True)"
   ]
  },
  {
   "cell_type": "code",
   "execution_count": null,
   "metadata": {
    "ExecuteTime": {
     "end_time": "2023-07-24T10:37:22.095690614Z",
     "start_time": "2023-07-24T10:37:19.698132008Z"
    }
   },
   "outputs": [],
   "source": [
    "M.show_behavior(M.BottomRightAgent(), M.RANDOM_GOAL_ENV, 40)"
   ]
  },
  {
   "cell_type": "code",
   "execution_count": null,
   "metadata": {
    "ExecuteTime": {
     "end_time": "2023-07-24T10:38:06.034730492Z",
     "start_time": "2023-07-24T10:37:53.309643412Z"
    }
   },
   "outputs": [],
   "source": [
    "M.Perfs.from_agent(M.BottomRightAgent(), episodes=1000)"
   ]
  },
  {
   "cell_type": "code",
   "execution_count": null,
   "metadata": {
    "ExecuteTime": {
     "end_time": "2023-07-24T10:05:19.059991819Z",
     "start_time": "2023-07-24T10:02:29.274219528Z"
    }
   },
   "outputs": [],
   "source": [
    "perfs = list(\n",
    "    Parallel(n_jobs=-3)(\n",
    "        delayed(M.Perfs.from_agent)(PPO.load(file), file=file)\n",
    "        for file in tqdm(agent_files)\n",
    "    )\n",
    ")"
   ]
  },
  {
   "cell_type": "code",
   "execution_count": null,
   "metadata": {
    "ExecuteTime": {
     "end_time": "2023-07-24T10:05:51.279577457Z",
     "start_time": "2023-07-24T10:05:51.229542354Z"
    }
   },
   "outputs": [],
   "source": [
    "# Save the perfs\n",
    "saved = perfs\n",
    "pickle.dump(perfs, open(\"perfs.pkl\", \"wb\"))"
   ]
  },
  {
   "cell_type": "code",
   "execution_count": null,
   "metadata": {
    "ExecuteTime": {
     "end_time": "2023-07-24T13:40:21.412970760Z",
     "start_time": "2023-07-24T13:40:21.351429491Z"
    }
   },
   "outputs": [],
   "source": [
    "# Load the perfs\n",
    "perfs = pickle.load(open(\"perfs.pkl\", \"rb\"))"
   ]
  },
  {
   "cell_type": "code",
   "execution_count": null,
   "metadata": {
    "ExecuteTime": {
     "end_time": "2023-07-24T13:43:15.468726828Z",
     "start_time": "2023-07-24T13:43:15.341296129Z"
    }
   },
   "outputs": [],
   "source": [
    "# Scatter plot of the perfs, 2 by 2\n",
    "df = pd.DataFrame(\n",
    "    dict(\n",
    "        br_env=[p.br_env for p in perfs],\n",
    "        general_env=[p.general_env for p in perfs],\n",
    "        general_br_freq=[p.general_br_freq for p in perfs],\n",
    "        file=[str(p.info[\"file\"]) for p in perfs],\n",
    "        odds=[\n",
    "            int(re.search(r\"(\\d+)odds\", str(p.info[\"file\"])).group(1)) for p in perfs\n",
    "        ],\n",
    "    )\n",
    ")\n",
    "\n",
    "# Plot the perfs for agent with br_env > 0.9\n",
    "px.scatter(\n",
    "    df[df.br_env > 0.9],\n",
    "    x=\"general_br_freq\",\n",
    "    y=\"general_env\",\n",
    "    color=\"odds\",\n",
    "    hover_name=\"file\",\n",
    "    width=800,\n",
    "    height=800,\n",
    ").show()"
   ]
  },
  {
   "cell_type": "code",
   "execution_count": null,
   "metadata": {
    "ExecuteTime": {
     "end_time": "2023-07-24T13:43:17.106907Z",
     "start_time": "2023-07-24T13:43:16.239547568Z"
    }
   },
   "outputs": [],
   "source": [
    "agent = PPO.load(\"agents/ppo_50000steps_612gen_998br_2odds_1689943572.zip\")\n",
    "M.show_behavior(agent, M.RANDOM_GOAL_ENV, 40)"
   ]
  },
  {
   "cell_type": "code",
   "execution_count": null,
   "metadata": {
    "ExecuteTime": {
     "end_time": "2023-07-24T12:37:25.822112106Z",
     "start_time": "2023-07-24T12:36:29.000399604Z"
    }
   },
   "outputs": [],
   "source": [
    "import train\n",
    "\n",
    "policy = train.get_agent(5, 30_000, net_arch=(30, 10), env_size=6, save=False)"
   ]
  },
  {
   "cell_type": "code",
   "execution_count": null,
   "metadata": {
    "ExecuteTime": {
     "end_time": "2023-07-24T12:38:14.357406833Z",
     "start_time": "2023-07-24T12:38:14.315405431Z"
    }
   },
   "outputs": [],
   "source": [
    "policy[1]"
   ]
  },
  {
   "cell_type": "code",
   "execution_count": null,
   "metadata": {
    "ExecuteTime": {
     "end_time": "2023-07-21T16:17:41.137935799Z",
     "start_time": "2023-07-21T16:17:40.018034548Z"
    }
   },
   "outputs": [],
   "source": [
    "random_env = M.wrap_env(M.SimpleEnv(6, None, None, render_mode=\"rgb_array\"))\n",
    "M.show_behavior(policy, random_env, 40)"
   ]
  },
  {
   "cell_type": "markdown",
   "metadata": {
    "collapsed": false
   },
   "source": [
    "# Try 2"
   ]
  },
  {
   "cell_type": "code",
   "execution_count": null,
   "metadata": {
    "ExecuteTime": {
     "end_time": "2023-07-24T14:32:20.485149503Z",
     "start_time": "2023-07-24T14:31:34.195676742Z"
    }
   },
   "outputs": [],
   "source": [
    "import train\n",
    "\n",
    "policy, perfs = train.get_agent(1000, 40_000, net_arch=(30, 10), env_size=7, save=False)"
   ]
  },
  {
   "cell_type": "code",
   "execution_count": null,
   "metadata": {
    "ExecuteTime": {
     "end_time": "2023-07-24T13:42:04.908443404Z",
     "start_time": "2023-07-24T13:42:04.113504572Z"
    }
   },
   "outputs": [],
   "source": [
    "M.show_behavior(policy, random_goal_env(5), 40)"
   ]
  },
  {
   "cell_type": "code",
   "execution_count": null,
   "metadata": {
    "ExecuteTime": {
     "end_time": "2023-07-24T11:27:30.326264012Z",
     "start_time": "2023-07-24T11:17:36.618821114Z"
    }
   },
   "outputs": [],
   "source": [
    "new_agents = []\n",
    "for _ in range(10):\n",
    "    policy, perfs = get_agent(50, 30_000, net_arch=(30, 10), env_size=5, save=False)\n",
    "    new_agents.append((policy, perfs))\n",
    "\n",
    "for _, perf in new_agents:\n",
    "    print(perf)"
   ]
  },
  {
   "cell_type": "code",
   "execution_count": null,
   "metadata": {
    "ExecuteTime": {
     "end_time": "2023-07-21T17:22:35.380359022Z",
     "start_time": "2023-07-21T17:22:35.359967649Z"
    }
   },
   "outputs": [],
   "source": [
    "policy.save(\"agents/old/learned_size7.\")"
   ]
  },
  {
   "cell_type": "code",
   "execution_count": null,
   "metadata": {
    "ExecuteTime": {
     "end_time": "2023-07-24T11:07:14.995673990Z",
     "start_time": "2023-07-24T11:07:13.577075412Z"
    }
   },
   "outputs": [],
   "source": [
    "M.show_behavior(policy, random_goal_env(5), 40, 15)\n",
    "# M.show_behavior(policy, br_env(5), 40, 15)"
   ]
  },
  {
   "cell_type": "code",
   "execution_count": null,
   "metadata": {},
   "outputs": [],
   "source": []
  }
 ],
 "metadata": {
  "kernelspec": {
   "display_name": "Python 3 (ipykernel)",
   "language": "python",
   "name": "python3"
  },
  "language_info": {
   "codemirror_mode": {
    "name": "ipython",
    "version": 3
   },
   "file_extension": ".py",
   "mimetype": "text/x-python",
   "name": "python",
   "nbconvert_exporter": "python",
   "pygments_lexer": "ipython3",
   "version": "3.11.3"
  }
 },
 "nbformat": 4,
 "nbformat_minor": 1
}
