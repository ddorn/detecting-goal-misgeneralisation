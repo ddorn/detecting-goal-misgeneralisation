{
 "cells": [
  {
   "cell_type": "code",
   "execution_count": null,
   "id": "initial_id",
   "metadata": {
    "ExecuteTime": {
     "end_time": "2023-09-07T14:16:26.548183579Z",
     "start_time": "2023-09-07T14:16:26.519496379Z"
    }
   },
   "outputs": [],
   "source": [
    "from dataclasses import dataclass, field\n",
    "from typing import Callable\n",
    "\n",
    "import transformer_lens as tl\n",
    "from plotly import subplots\n",
    "from torch import Tensor\n",
    "import torch\n",
    "import plotly.graph_objects as go\n",
    "import plotly.express as px"
   ]
  },
  {
   "cell_type": "code",
   "execution_count": null,
   "id": "fe0bd37e4616f2a9",
   "metadata": {
    "ExecuteTime": {
     "end_time": "2023-09-07T11:59:22.387515809Z",
     "start_time": "2023-09-07T11:59:22.346946091Z"
    }
   },
   "outputs": [],
   "source": [
    "%load_ext autoreload\n",
    "%autoreload 2"
   ]
  },
  {
   "cell_type": "code",
   "execution_count": null,
   "id": "62980dc0bfdf3958",
   "metadata": {
    "ExecuteTime": {
     "end_time": "2023-09-07T12:02:38.647342527Z",
     "start_time": "2023-09-07T12:02:38.602514856Z"
    }
   },
   "outputs": [],
   "source": [
    "config = tl.HookedTransformerConfig(\n",
    "    n_layers=3,\n",
    "    d_model=64,\n",
    "    n_ctx=12,\n",
    "    d_head=8,\n",
    "    n_heads=8,\n",
    "    d_vocab=12,\n",
    "    act_fn=\"relu\",\n",
    "    attention_dir=\"bidirectional\",\n",
    ")\n",
    "\n",
    "print(config)"
   ]
  },
  {
   "cell_type": "markdown",
   "id": "9905b10272a29961",
   "metadata": {
    "collapsed": false
   },
   "source": [
    "# Defining the data distribution\n",
    "\n",
    "We define two tasks, SORT and REVERSE. An input is of the form \"TASK *numbers\". With numbers between 0 and 10"
   ]
  },
  {
   "cell_type": "code",
   "execution_count": null,
   "id": "85f86fb7121c8841",
   "metadata": {
    "ExecuteTime": {
     "end_time": "2023-09-07T14:29:59.085190129Z",
     "start_time": "2023-09-07T14:29:58.985240459Z"
    }
   },
   "outputs": [],
   "source": [
    "import numpy as np\n",
    "import src\n",
    "from jaxtyping import Int, Float\n",
    "\n",
    "def gen_task(batch_size: int, force_task=None) -> tuple[Int[Tensor, \"batch token=11\"], Int[Tensor, \"batch token-1\"]]:\n",
    "    x = np.random.randint(1, 10, size=(batch_size, 10))\n",
    "    # y_sort = np.sort(x, axis=1)\n",
    "    # y_sort = np.cumsum(x, axis=1) % 10\n",
    "    y_sort = np.concatenate([x[:, ::2], x[:, 1::2]], axis=1)\n",
    "    y_reverse = np.flip(x, axis=1)\n",
    "    # y_reverse = np.cumprod(x, axis=1) % 10\n",
    "    \n",
    "    task = np.random.randint(0, 2, size=(batch_size, 1))\n",
    "    if force_task is not None:\n",
    "        task[:] = force_task\n",
    "    y = np.where(task == 0, y_sort, y_reverse)\n",
    "    x = np.concatenate([task, x], axis=1)\n",
    "    \n",
    "    return torch.tensor(x).float(), torch.tensor(y).float()\n",
    "\n",
    "@torch.inference_mode()\n",
    "def get_accuracy(model, n: int = 1000):\n",
    "    # 2. Compute the accuracy for each task\n",
    "    xs, ys = gen_task(n)\n",
    "    y_preds = model(xs)\n",
    "    y_preds = torch.round(y_preds)\n",
    "    task_sort = torch.where(xs[:, 0] == 0)[0]\n",
    "    task_reverse = torch.where(xs[:, 0] == 1)[0]\n",
    "    acc_sort = (y_preds[task_sort] == ys[task_sort]).float().mean()\n",
    "    acc_reverse = (y_preds[task_reverse] == ys[task_reverse]).float().mean()\n",
    "    # print(f\"Accuracy for SORT:    {acc_sort:.2f}\")\n",
    "    # print(f\"Accuracy for REVERSE: {acc_reverse:.2f}\")\n",
    "    \n",
    "    return acc_sort.item(), acc_reverse.item()\n",
    "\n"
   ]
  },
  {
   "cell_type": "code",
   "execution_count": null,
   "id": "5e3ddd8e2af00b36",
   "metadata": {
    "ExecuteTime": {
     "end_time": "2023-09-07T14:30:00.480728956Z",
     "start_time": "2023-09-07T14:30:00.426783083Z"
    }
   },
   "outputs": [],
   "source": [
    "@dataclass\n",
    "class Stats:\n",
    "    losses: list[Float] = field(default_factory=list)\n",
    "    acc_sorts: list[Float] = field(default_factory=list)\n",
    "    acc_reverses: list[Float] = field(default_factory=list)\n",
    "    examples: list[Float] = field(default_factory=list)\n",
    "    n_examples: int = 0\n",
    "\n",
    "    def log(self, n_examples, loss, acc_sort=None, acc_reverse=None):\n",
    "        if acc_sort is None:\n",
    "            acc_sort = self.acc_sorts[-1]\n",
    "        if acc_reverse is None:\n",
    "            acc_reverse = self.acc_reverses[-1]\n",
    "\n",
    "        self.n_examples += n_examples\n",
    "        self.examples.append(self.n_examples)\n",
    "        self.losses.append(loss)\n",
    "        self.acc_sorts.append(acc_sort)\n",
    "        self.acc_reverses.append(acc_reverse)\n",
    "        \n",
    "    def plot(self, **kwargs):\n",
    "        fig = go.Figure()\n",
    "        fig.add_trace(go.Scatter(x=self.examples, y=smooth(self.losses), name=\"Loss\"))\n",
    "        fig.add_trace(go.Scatter(x=self.examples, y=1-smooth(self.acc_sorts), name=\"1 - Accuracy for SORT\"))\n",
    "        fig.add_trace(go.Scatter(x=self.examples, y=1-smooth(self.acc_reverses), name=\"1 - Accuracy for REVERSE\"))\n",
    "        fig.update_layout(\n",
    "            title=\"Training metrics\",\n",
    "            xaxis_title=\"Number of examples\",\n",
    "            yaxis_type=\"log\",\n",
    "            **kwargs,\n",
    "        )\n",
    "        fig.show()"
   ]
  },
  {
   "cell_type": "code",
   "execution_count": null,
   "id": "5394b255ae893dd9",
   "metadata": {
    "ExecuteTime": {
     "end_time": "2023-09-07T15:17:26.254766755Z",
     "start_time": "2023-09-07T15:17:26.197650508Z"
    }
   },
   "outputs": [],
   "source": [
    "# Training loop\n",
    "def train(model, optim, task: Callable[[int], tuple]=gen_task, epochs=1000, batch_size=1000, stats: Stats = None, extra_loss = lambda _: 0):\n",
    "    if stats is None:\n",
    "        stats = Stats()\n",
    "    loss_fn = torch.nn.MSELoss()\n",
    "    for epoch in range(epochs):\n",
    "        x, y = task(batch_size)\n",
    "        y_pred = model(x)\n",
    "        loss = loss_fn(y_pred, y) + extra_loss(model)\n",
    "        optimizer.zero_grad()\n",
    "        loss.backward()\n",
    "        optim.step()\n",
    "        \n",
    "        # Logs\n",
    "        if epoch % 100 == 0:\n",
    "            acc_sort, acc_reverse = get_accuracy(model)\n",
    "            stats.log(batch_size, loss.item(), acc_sort, acc_reverse)\n",
    "            print(f\"Epoch {epoch} - Loss: {loss.item():.2f} - Accuracy for SORT: {acc_sort:.2f} - Accuracy for REVERSE: {acc_reverse:.2f}\")\n",
    "        else:\n",
    "            stats.log(batch_size, loss.item())"
   ]
  },
  {
   "cell_type": "code",
   "execution_count": null,
   "id": "38456a329c3ea77",
   "metadata": {
    "ExecuteTime": {
     "start_time": "2023-09-07T13:48:57.201178504Z"
    }
   },
   "outputs": [],
   "source": [
    "model = src.MLP(11, 64, 64, 64, 10, activation=torch.nn.ReLU)\n",
    "optimizer = torch.optim.Adam(model.parameters())\n",
    "stats = Stats()"
   ]
  },
  {
   "cell_type": "code",
   "execution_count": null,
   "id": "bc91e64a7e18c854",
   "metadata": {},
   "outputs": [],
   "source": [
    "train(model, optimizer, stats=stats)"
   ]
  },
  {
   "cell_type": "code",
   "execution_count": null,
   "id": "b0c1e5b8fffb5a7c",
   "metadata": {
    "ExecuteTime": {
     "end_time": "2023-09-07T13:52:52.961533178Z",
     "start_time": "2023-09-07T13:52:52.856708198Z"
    }
   },
   "outputs": [],
   "source": [
    "# Smooth the loss\n",
    "def smooth(x, kernel_size: int = 100):\n",
    "    kernel = np.ones(kernel_size) / kernel_size\n",
    "    return np.convolve(x, kernel, mode=\"valid\")\n",
    "\n",
    "# logplot of all the metrics: loss, 1-sort accuracy, 1-reverse accuracy, logscale\n",
    "\n"
   ]
  },
  {
   "cell_type": "code",
   "execution_count": null,
   "id": "8de3753835627235",
   "metadata": {
    "ExecuteTime": {
     "end_time": "2023-09-07T13:47:29.659434790Z",
     "start_time": "2023-09-07T13:47:29.584378200Z"
    }
   },
   "outputs": [],
   "source": [
    "# Evaluate the model\n",
    "# 1. Show a few examples\n",
    "xs, ys = gen_task(10)\n",
    "y_preds = model(xs)\n",
    "for x, y, y_pred in zip(xs, ys, y_preds):\n",
    "    x = x.int().tolist()\n",
    "    y = y.int().tolist()\n",
    "    print(f\"Input:  {x}\")\n",
    "    print(f\"Target: {y}\")\n",
    "    print(f\"Pred:   [{', '.join([f'{v:.1f}' for v in y_pred.tolist()])}]\")\n",
    "    print(\"\")\n",
    "    \n"
   ]
  },
  {
   "cell_type": "code",
   "execution_count": null,
   "id": "4a4308b34515fea5",
   "metadata": {
    "ExecuteTime": {
     "start_time": "2023-09-07T14:03:27.222446580Z"
    }
   },
   "outputs": [],
   "source": [
    "# Show all the weights of the model\n",
    "linears = [layer for layer in model if isinstance(layer, torch.nn.Linear)]\n",
    "n_layers = len(linears)\n",
    "fig = subplots.make_subplots(rows=n_layers, cols=2, subplot_titles=[f\"Layer {i}\" for i in range(n_layers)])\n",
    "\n",
    "# Ensure they use the same color scale\n",
    "max_weight = max([layer.weight.max().item() for layer in linears])\n",
    "min_weight = min([layer.weight.min().item() for layer in linears])\n",
    "\n",
    "for i, layer in enumerate(linears):\n",
    "    if isinstance(layer, torch.nn.Linear):\n",
    "        fig.add_trace(go.Heatmap(\n",
    "            z=layer.weight.detach().numpy(),\n",
    "            colorscale=\"RdBu\",\n",
    "            zmin=min_weight,\n",
    "            zmax=max_weight,\n",
    "        ), row=i+1, col=1)\n",
    "        fig.add_trace(go.Heatmap(\n",
    "            z=layer.bias.detach().numpy().reshape(-1, 1),\n",
    "            colorscale=\"RdBu\",\n",
    "            zmin=min_weight,\n",
    "            zmax=max_weight,\n",
    "        ), row=i+1, col=2)\n",
    "        \n",
    "\n",
    "fig.update_layout(height=2000, width=1000)\n",
    "fig.show()\n"
   ]
  },
  {
   "cell_type": "code",
   "execution_count": null,
   "id": "6ce47000e75e6c54",
   "metadata": {
    "ExecuteTime": {
     "start_time": "2023-09-07T13:53:10.939173275Z"
    }
   },
   "outputs": [],
   "source": [
    "model"
   ]
  },
  {
   "cell_type": "code",
   "execution_count": null,
   "id": "2e54d2c57de25621",
   "metadata": {
    "ExecuteTime": {
     "end_time": "2023-09-07T15:18:02.032649027Z",
     "start_time": "2023-09-07T15:18:01.545928777Z"
    }
   },
   "outputs": [],
   "source": [
    "from copy import deepcopy\n",
    "\n",
    "\n",
    "class MaskedLinear(torch.nn.Linear):\n",
    "    def __init__(self, in_features, out_features, bias=True):\n",
    "        super().__init__(in_features, out_features, bias)\n",
    "        self.mask = torch.nn.Parameter(torch.rand(self.weight.shape))\n",
    "    \n",
    "    def forward(self, x):\n",
    "        return torch.nn.functional.linear(x, self.mask.clip(0, 1) * self.weight, self.bias)\n",
    "    \n",
    "    @classmethod\n",
    "    def from_linear(cls, linear):\n",
    "        self = cls(linear.in_features, linear.out_features, linear.bias is not None)\n",
    "        self.weight.data = linear.weight.data\n",
    "        if linear.bias is not None:\n",
    "            self.bias.data = linear.bias.data\n",
    "        return self\n",
    "    \n",
    "def penalise_masks(model, coef=0.01):\n",
    "    pen = 0\n",
    "    for name, x in model.named_parameters():\n",
    "        if \"mask\" in name:\n",
    "            pen = pen + (x * (1 - x)).abs().sum()\n",
    "    return pen * coef\n",
    "\n",
    "\n",
    "masked_model = deepcopy(model)\n",
    "for i, layer in enumerate(masked_model):\n",
    "    if isinstance(layer, torch.nn.Linear):\n",
    "        masked_model[i] = MaskedLinear.from_linear(layer)\n",
    "# masked_model = src.L1WeightDecay(masked_model, 0.0001, name_filter=\"mask\")\n",
    "\n",
    "masked_model"
   ]
  },
  {
   "cell_type": "code",
   "execution_count": null,
   "id": "55246803477ada9b",
   "metadata": {
    "ExecuteTime": {
     "end_time": "2023-09-07T15:18:03.583152007Z",
     "start_time": "2023-09-07T15:18:03.535211406Z"
    }
   },
   "outputs": [],
   "source": [
    "# 1. Set the mask to trainable and the rest to not trainable\n",
    "for name, param in masked_model.named_parameters():\n",
    "    if \"mask\" in name:\n",
    "        param.requires_grad = True\n",
    "    else:\n",
    "        param.requires_grad = False\n",
    "    print(name, param.requires_grad)\n",
    "        \n",
    "# 2. train the model only on task 0\n",
    "optimizer = torch.optim.AdamW([param for name, param in masked_model.named_parameters() if \"mask\" in name],\n",
    "                             weight_decay=0)\n",
    "stats = Stats()\n"
   ]
  },
  {
   "cell_type": "code",
   "execution_count": null,
   "id": "8a13e60ac85a278b",
   "metadata": {
    "ExecuteTime": {
     "end_time": "2023-09-07T15:19:36.311401587Z",
     "start_time": "2023-09-07T15:19:30.107069937Z"
    }
   },
   "outputs": [],
   "source": [
    "from functools import partial\n",
    "\n",
    "# Training loopq\n",
    "train(masked_model, optimizer, \n",
    "      epochs=3_000,\n",
    "      task=lambda bs: gen_task(bs, force_task=1), \n",
    "      extra_loss=partial(penalise_masks, coef=0.001),\n",
    "      stats=stats)"
   ]
  },
  {
   "cell_type": "code",
   "execution_count": null,
   "id": "219c03c01d235886",
   "metadata": {
    "ExecuteTime": {
     "end_time": "2023-09-07T15:19:39.751559669Z",
     "start_time": "2023-09-07T15:19:39.370419481Z"
    }
   },
   "outputs": [],
   "source": [
    "stats.plot()\n",
    "plot_masks(masked_model)"
   ]
  },
  {
   "cell_type": "code",
   "execution_count": null,
   "id": "7dbfa3b246171091",
   "metadata": {
    "ExecuteTime": {
     "end_time": "2023-09-07T14:59:21.368846595Z",
     "start_time": "2023-09-07T14:59:21.251652641Z"
    }
   },
   "outputs": [],
   "source": [
    "masked_model_task_0 = deepcopy(masked_model)"
   ]
  },
  {
   "cell_type": "code",
   "execution_count": null,
   "id": "9b5200f44a70f6ad",
   "metadata": {
    "ExecuteTime": {
     "end_time": "2023-09-07T15:00:11.870991496Z",
     "start_time": "2023-09-07T15:00:11.823146386Z"
    }
   },
   "outputs": [],
   "source": [
    "masked_model_task_1 = deepcopy(masked_model)"
   ]
  },
  {
   "cell_type": "code",
   "execution_count": null,
   "id": "7e8af30ef0698447",
   "metadata": {
    "ExecuteTime": {
     "end_time": "2023-09-07T15:00:12.813049675Z",
     "start_time": "2023-09-07T15:00:12.653840015Z"
    }
   },
   "outputs": [],
   "source": [
    "# plot the masks\n",
    "def plot_masks(*masked_models):\n",
    "    all_masks = [\n",
    "        [(name, param.detach().numpy()) for name, param in model.named_parameters() if \"mask\" in name]\n",
    "        for model in masked_models\n",
    "    ]\n",
    "\n",
    "    fig = subplots.make_subplots(rows=len(all_masks[0]), cols=len(all_masks),\n",
    "                                    subplot_titles=[name for name, _ in all_masks[0] for _ in masked_models])\n",
    "\n",
    "    for i, masks in enumerate(all_masks):\n",
    "        for j, (name, mask) in enumerate(masks):\n",
    "            fig.add_trace(go.Heatmap(\n",
    "                z=mask,\n",
    "                colorscale=\"RdBu\",\n",
    "                zmin=-1,\n",
    "                zmax=1,\n",
    "            ), row=j+1, col=i+1)\n",
    "            \n",
    "    fig.update_layout(height=2000, width=1000)\n",
    "    fig.show()\n",
    "    \n",
    "plot_masks(masked_model_task_0, masked_model_task_1)\n"
   ]
  },
  {
   "cell_type": "code",
   "execution_count": null,
   "id": "2c0392b2817263e8",
   "metadata": {
    "ExecuteTime": {
     "end_time": "2023-09-07T15:20:45.636038435Z",
     "start_time": "2023-09-07T15:20:45.140110431Z"
    }
   },
   "outputs": [],
   "source": [
    "def compare_masks(masked_model_1, masked_model_2):\n",
    "    # Plot the intersection, i.e. the minimum of the two masks\n",
    "    # Then plot the difference, i.e. (A - min) - (B - min) = A - B\n",
    "    all_masks = [\n",
    "        [(name, param.detach().numpy()) for name, param in model.named_parameters() if \"mask\" in name]\n",
    "        for model in [masked_model_1, masked_model_2]\n",
    "    ]\n",
    "    \n",
    "    fig = subplots.make_subplots(rows=len(all_masks[0]), cols=2,\n",
    "                                    subplot_titles=[name + suffix for name, _ in all_masks[0] for suffix in [\" - min(A, B)\", \" - A-B\"]])\n",
    "    \n",
    "    for i, ((_, mask_a), (_, mask_b)) in enumerate(zip(*all_masks)):\n",
    "        imgs = np.stack([mask_a, np.zeros_like(mask_a), mask_b], axis=-1)\n",
    "        mask_min = np.minimum(mask_a, mask_b)\n",
    "        mask_diff = mask_a - mask_b\n",
    "        fig.add_trace(go.Heatmap(\n",
    "            z=mask_min,\n",
    "            colorscale=\"RdBu\",\n",
    "            zmin=-1,\n",
    "            zmax=1,\n",
    "        ), row=i+1, col=1)\n",
    "        # Show imgs\n",
    "        fig.add_trace(go.Image(z=imgs * 255), row=i+1, col=2)\n",
    "        \n",
    "    fig.update_layout(height=2000, width=1000)\n",
    "    fig.show()\n",
    "    \n",
    "# compare_masks(masked_model_task_0, masked_model_task_1)\n",
    "compare_masks(masked_model, binary_masked)\n",
    "    "
   ]
  },
  {
   "cell_type": "code",
   "execution_count": null,
   "id": "36d9c2ecbd4e3449",
   "metadata": {
    "ExecuteTime": {
     "end_time": "2023-09-07T15:23:14.799630958Z",
     "start_time": "2023-09-07T15:23:14.397917198Z"
    }
   },
   "outputs": [],
   "source": [
    "# Binarize the masks\n",
    "binary_masked = deepcopy(masked_model)\n",
    "\n",
    "for name, param in binary_masked.named_parameters():\n",
    "    if \"mask\" in name:\n",
    "        param.data = param.data.clip(0, 1)\n",
    "\n",
    "        # Sample according to the mask\n",
    "        param.data = torch.bernoulli(param.data)\n",
    "        \n",
    "        # Set to 1 if the mask is > 0.5\n",
    "        # param.data = (param.data > 0.5).float()\n",
    "        \n",
    "plot_masks(binary_masked)\n",
    "# Check accuracy\n",
    "get_accuracy(binary_masked)"
   ]
  },
  {
   "cell_type": "code",
   "execution_count": null,
   "id": "a54ea3fdcd4e794c",
   "metadata": {},
   "outputs": [],
   "source": []
  }
 ],
 "metadata": {
  "kernelspec": {
   "display_name": "Python 3",
   "language": "python",
   "name": "python3"
  },
  "language_info": {
   "codemirror_mode": {
    "name": "ipython",
    "version": 2
   },
   "file_extension": ".py",
   "mimetype": "text/x-python",
   "name": "python",
   "nbconvert_exporter": "python",
   "pygments_lexer": "ipython2",
   "version": "2.7.6"
  }
 },
 "nbformat": 4,
 "nbformat_minor": 5
}
