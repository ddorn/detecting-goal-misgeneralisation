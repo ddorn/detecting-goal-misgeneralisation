{
 "cells": [
  {
   "cell_type": "code",
   "execution_count": null,
   "id": "69677c152f22a9eb",
   "metadata": {
    "ExecuteTime": {
     "end_time": "2023-08-17T12:57:19.046531051Z",
     "start_time": "2023-08-17T12:57:19.034439594Z"
    }
   },
   "outputs": [],
   "source": [
    "%load_ext autoreload\n",
    "%autoreload 2"
   ]
  },
  {
   "cell_type": "code",
   "execution_count": null,
   "id": "initial_id",
   "metadata": {
    "ExecuteTime": {
     "end_time": "2023-08-17T12:57:33.743913240Z",
     "start_time": "2023-08-17T12:57:30.950276822Z"
    }
   },
   "outputs": [],
   "source": [
    "from pathlib import Path\n",
    "from random import randint\n",
    "\n",
    "import einops\n",
    "import numpy as np\n",
    "import plotly.express as px\n",
    "import torch\n",
    "import wandb\n",
    "from stable_baselines3 import PPO\n",
    "from stable_baselines3.common.env_checker import check_env\n",
    "from stable_baselines3.common.env_util import make_vec_env\n",
    "from torch import nn\n",
    "from torchinfo import torchinfo\n",
    "\n",
    "import src as M\n",
    "\n",
    "# For plotly, to have larger images\n",
    "BIG = dict(width=1600, height=1600)\n",
    "ZERO_CENTERED = dict(color_continuous_scale=\"RdBu\", color_continuous_midpoint=0)"
   ]
  },
  {
   "cell_type": "code",
   "execution_count": null,
   "id": "c53a966f3a89b3b7",
   "metadata": {
    "ExecuteTime": {
     "end_time": "2023-08-17T13:05:12.482999301Z",
     "start_time": "2023-08-17T13:05:12.197307569Z"
    }
   },
   "outputs": [],
   "source": [
    "ENV_SIZE = 4\n",
    "\n",
    "mk_env_generator = lambda full_color: M.wrap(\n",
    "    lambda: M.ThreeGoalsEnv(ENV_SIZE, step_reward=0.0),\n",
    "    lambda e: M.ColorBlindWrapper(e, reduction='max', reward_indistinguishable_goals=True, disabled=full_color),\n",
    "    # lambda e: M.OneHotColorBlindWrapper(e, reward_indistinguishable_goals=True, disabled=full_color),\n",
    "    lambda e: M.WeightedChannelWrapper(e, weights=(1, 0.5, 1), disabled=full_color),\n",
    "    lambda e: M.AddTrueGoalToObsFlat(e),\n",
    "    # lambda e: M.AddSwitch(e, 1, lambda _: 0),  # No switch, but we still use SwitchMLP as the architecture...\n",
    ")\n",
    "mk_env = mk_env_generator(full_color=False)\n",
    "mk_env_full_color = mk_env_generator(full_color=True)"
   ]
  },
  {
   "cell_type": "code",
   "execution_count": null,
   "id": "18b443ae4baaa9ff",
   "metadata": {
    "ExecuteTime": {
     "end_time": "2023-08-17T12:57:42.079150985Z",
     "start_time": "2023-08-17T12:57:41.695441408Z"
    }
   },
   "outputs": [],
   "source": [
    "# env = mk_env_full_color()\n",
    "env = mk_env()\n",
    "\n",
    "print(env)\n",
    "print(\"Observation space:\", env.observation_space)\n",
    "print(\"Action space:\", env.action_space)\n",
    "check_env(env)\n",
    "obs, _ = env.reset()\n",
    "\n",
    "if isinstance(obs, dict):\n",
    "    switch = obs['switch']\n",
    "    print(f\"{switch=}\")\n",
    "    obs = obs['obs']\n",
    "    \n",
    "print(f\"{obs.shape=}\")\n",
    "px.imshow(obs[:-3].reshape(ENV_SIZE, ENV_SIZE, 3)).show()\n",
    "print(obs[-3:])\n"
   ]
  },
  {
   "cell_type": "code",
   "execution_count": null,
   "id": "67db6b9034e4a09b",
   "metadata": {
    "ExecuteTime": {
     "end_time": "2023-08-17T12:57:52.112847482Z",
     "start_time": "2023-08-17T12:57:51.943275884Z"
    }
   },
   "outputs": [],
   "source": [
    "arch = M.Split(-3,\n",
    "   left= nn.Sequential(\n",
    "       M.Rearrange(\"... (h w c) -> ... c h w\", h=ENV_SIZE, w=ENV_SIZE),\n",
    "       # M.PerChannelL1WeightDecay(\n",
    "           nn.LazyConv2d(8, 3, padding=1),\n",
    "           # weight_decay=0,\n",
    "           # name_filter=\"weight\",\n",
    "       # ),\n",
    "       nn.ReLU(),\n",
    "       nn.Conv2d(8, 8, 3, padding=1),\n",
    "       nn.ReLU(),\n",
    "       nn.Flatten(-3),\n",
    "   ),\n",
    "   right=nn.Identity(),\n",
    ")\n",
    "\n",
    "arch = nn.Sequential(\n",
    "    arch,\n",
    "    nn.LazyLinear(32),\n",
    "    nn.ReLU(),\n",
    "    nn.Linear(32, 32),\n",
    "    nn.ReLU(),\n",
    ")\n",
    "\n",
    "# arch = M.L1WeightDecay(arch, 0)\n",
    "\n",
    "print(torchinfo.summary(arch, input_size=(7, *obs.shape), depth=4))\n",
    "print(arch)"
   ]
  },
  {
   "cell_type": "code",
   "execution_count": null,
   "id": "4466be5caadc1e54",
   "metadata": {
    "ExecuteTime": {
     "end_time": "2023-08-17T13:02:45.207147845Z",
     "start_time": "2023-08-17T12:58:43.863527842Z"
    }
   },
   "outputs": [],
   "source": [
    "learning_rate = 1e-3\n",
    "# weight_decay = 1e-2\n",
    "seed = randint(0, 2**32 - 1)\n",
    "n_env = 4\n",
    "use_wandb = True\n",
    "\n",
    "# assert not isinstance(arch, M.L1WeightDecay), \"You forgot to re-run the arch definition\"\n",
    "# arch = M.L1WeightDecay(arch, l1_weight_decay)\n",
    "\n",
    "policy = PPO(\n",
    "    M.CustomActorCriticPolicy,\n",
    "    make_vec_env(mk_env, n_envs=n_env),\n",
    "    policy_kwargs=dict(\n",
    "        arch=arch,\n",
    "        # optimizer_kwargs=dict(weight_decay=0),\n",
    "    ),\n",
    "    n_steps=2_048 // n_env,\n",
    "    tensorboard_log=\"../run_logs\",\n",
    "    seed=seed,\n",
    "    learning_rate=lambda f: f * learning_rate,\n",
    "    device='cpu',\n",
    ")\n",
    "print(policy.policy)\n",
    "print(\"Total number of parameters:\", sum(p.numel() for p in policy.policy.parameters()))\n",
    "\n",
    "if use_wandb:\n",
    "    wandb.init(\n",
    "        sync_tensorboard=True,  # auto-upload sb3's tensorboard metrics\n",
    "        save_code=True,\n",
    "        config=dict(\n",
    "            # l1_weight_decay=weight_decay,\n",
    "            arch=str(arch),\n",
    "            seed=seed,\n",
    "        ),\n",
    "        project=\"3goals-blind\",\n",
    "        notes=M.unique(\"\"\"\n",
    "Does changing the norm of the green channel bias the agent towards the red goal?\n",
    "575: Stopped using per-channel reg. Using just the L2 from AdamW.\n",
    "\"\"\"))\n",
    "\n",
    "callbacks = [M.ProgressBarCallback(),\n",
    "             # M.WeightDecayCallback(lambda f: (1-f) * weight_decay),\n",
    "             M.LogChannelNormsCallback(),\n",
    "             ]\n",
    "if use_wandb:\n",
    "    callbacks.append(M.WandbWithBehaviorCallback(mk_env()))\n",
    "policy.learn(total_timesteps=400_000, callback=callbacks);"
   ]
  },
  {
   "cell_type": "code",
   "execution_count": null,
   "id": "55c5a0f6d83e0a64",
   "metadata": {},
   "outputs": [],
   "source": [
    "# policy.lr_schedule = lambda _: 2e-4\n",
    "# policy.policy.mlp_extractor.policy_net.weight_decay = 3e-4\n",
    "policy.learn(total_timesteps=300_000, reset_num_timesteps=False, callback=callbacks)"
   ]
  },
  {
   "cell_type": "code",
   "execution_count": null,
   "id": "15fa4ef19630a801",
   "metadata": {
    "ExecuteTime": {
     "end_time": "2023-08-17T13:03:45.657777310Z",
     "start_time": "2023-08-17T13:03:44.290446316Z"
    }
   },
   "outputs": [],
   "source": [
    "M.make_stats(policy, mk_env(), n_episodes=1_000,\n",
    "             wandb_name=\"eval/blind\",\n",
    "             subtitle=\"Blind agent with blind inputs\");"
   ]
  },
  {
   "cell_type": "code",
   "execution_count": null,
   "id": "6d6900cfa006dbe5",
   "metadata": {
    "ExecuteTime": {
     "end_time": "2023-08-17T13:05:52.177693639Z",
     "start_time": "2023-08-17T13:05:37.241404234Z"
    }
   },
   "outputs": [],
   "source": [
    "M.make_stats(policy, mk_env_full_color(),\n",
    "             n_episodes=10_000,\n",
    "             wandb_name=\"eval/full-color-non-weighted\",\n",
    "             subtitle=\"Blind agent with full color inputs\");"
   ]
  },
  {
   "cell_type": "code",
   "execution_count": null,
   "id": "80b2f446e733e58a",
   "metadata": {},
   "outputs": [],
   "source": [
    "color = 1\n",
    "M.evaluate(policy, mk_env_generator(color)(), n_episodes=1000)"
   ]
  },
  {
   "cell_type": "code",
   "execution_count": null,
   "id": "36c422eb1efa3487",
   "metadata": {},
   "outputs": [],
   "source": [
    "M.show_behavior(policy, M.ThreeGoalsEnv.interesting(4, 10, [mk_env]), **BIG)"
   ]
  },
  {
   "cell_type": "code",
   "execution_count": null,
   "id": "1d73867436b9ea6d",
   "metadata": {},
   "outputs": [],
   "source": [
    "envs = []\n",
    "for i in range(6):\n",
    "    base_env = M.ThreeGoalsEnv.constant(ENV_SIZE, true_goal={\"red\": 1, \"green\": 1})\n",
    "    envs.append(mk_env(base_env))\n",
    "    envs.append(mk_env_full_color(base_env))\n",
    "        \n",
    "M.show_behavior(policy, envs, **BIG)"
   ]
  },
  {
   "cell_type": "markdown",
   "id": "98f45fc72e82ae17",
   "metadata": {
    "collapsed": false
   },
   "source": [
    "# Load and Save models"
   ]
  },
  {
   "cell_type": "code",
   "execution_count": null,
   "id": "7257d5ad74724bd6",
   "metadata": {},
   "outputs": [],
   "source": [
    "# Print all models\n",
    "models_dir = Path(\"../models/3-goal-blind-one-hot\")\n",
    "for model_path in sorted(models_dir.glob(\"*.zip\")):\n",
    "    print(model_path.name)"
   ]
  },
  {
   "cell_type": "code",
   "execution_count": null,
   "id": "c91248c2d5119ea9",
   "metadata": {},
   "outputs": [],
   "source": [
    "no_green_channel_agent = policy"
   ]
  },
  {
   "cell_type": "code",
   "execution_count": null,
   "id": "4efbadfeb4c036e6",
   "metadata": {},
   "outputs": [],
   "source": [
    "name = \"no-red-channel\"\n",
    "path = models_dir / f\"{name}.zip\"\n",
    "if path.exists():\n",
    "    print(\"Loading existing model\")\n",
    "    try:\n",
    "        previous_policy = policy  # Saved, in case I wanted to save it, but forgot to change the name\n",
    "    except NameError: \n",
    "        pass\n",
    "    policy = PPO.load(path)\n",
    "else:\n",
    "    print(f\"Saving model to {path}\")\n",
    "    try:\n",
    "        for name, m in policy.policy.named_modules():\n",
    "            if hasattr(m, \"logger\"):\n",
    "                print(\"Removing logger on\", m)\n",
    "                del m.logger\n",
    "        policy.save(path)\n",
    "    except Exception as e:\n",
    "        path.unlink()\n",
    "        # Without this I get TypeError: can't pickle LazyModule objects\n",
    "        # I don't know why, but my hack for the weight_decay seem to interfere with\n",
    "        # their saving mechanism\n",
    "        raise"
   ]
  },
  {
   "cell_type": "markdown",
   "id": "5ae57831fa740ad",
   "metadata": {
    "collapsed": false
   },
   "source": [
    "# Visualize the weights"
   ]
  },
  {
   "cell_type": "code",
   "execution_count": null,
   "id": "9c4133102ea0ef53",
   "metadata": {},
   "outputs": [],
   "source": [
    "def imshow(x, symetric: bool = True, **kwargs):\n",
    "    h, w = x.shape[-2:]\n",
    "    if 'facet_col' in kwargs:\n",
    "        wrap = kwargs.get('facet_col_wrap', 1)\n",
    "        h *= np.ceil(x.shape[kwargs['facet_col']] / wrap)\n",
    "        w *= wrap\n",
    "    if symetric:\n",
    "        kwargs.setdefault(\"color_continuous_midpoint\", 0)\n",
    "        kwargs.setdefault(\"color_continuous_scale\", \"RdBu\")\n",
    "    width = 50 + w * 25\n",
    "    height = h * 25 + 50 * ('title' in kwargs)\n",
    "    while width < 500 and height < 500:\n",
    "        width *= 2\n",
    "        height *= 2\n",
    "    new = dict(\n",
    "        width=max(300, width),\n",
    "        height=max(300, height),\n",
    "        facet_row_spacing=0.01,\n",
    "        facet_col_spacing=0.01,\n",
    "    )\n",
    "    kwargs = {**new, **kwargs}\n",
    "    px.imshow(x, **kwargs).show()"
   ]
  },
  {
   "cell_type": "code",
   "execution_count": null,
   "id": "76e157f586e0ba5",
   "metadata": {},
   "outputs": [],
   "source": [
    "switch_biases = policy.policy.mlp_extractor.switch_biases\n",
    "print(\"Biases shape:\", switch_biases.shape)\n",
    "print(\"Max abs bias:\", switch_biases.abs().max(dim=-1).values)\n",
    "imshow(switch_biases, title='Biases of the switch layers')\n"
   ]
  },
  {
   "cell_type": "code",
   "execution_count": null,
   "id": "e14f1569b1d07b04",
   "metadata": {},
   "outputs": [],
   "source": [
    "# Plot the three switch layers\n",
    "\n",
    "switch_layers_weights = policy.policy.mlp_extractor.switch_weights\n",
    "\n",
    "# shape of a switch (out_dim, row, col, obj_type)\n",
    "w1 = einops.rearrange(switch_layers_weights, 'agent out_dim (row col obj_type) -> agent obj_type out_dim row col', row=4, col=4)\n",
    "b1 = einops.repeat(policy.policy.mlp_extractor.switch_biases, 'agent out_dim -> agent 1 out_dim 4 1')\n",
    "\n",
    "avg = w1.mean(dim=0)\n",
    "TYPES = ['empty', 'agent', 'goal_red', 'goal_green', 'goal_blue']\n",
    "EMPTY, AGENT, RED, GREEN, BLUE = range(5)\n",
    "\n",
    "print(w1.shape, avg.shape)\n",
    "# d = w1[:, EMPTY] - avg[EMPTY] \n",
    "d = avg\n",
    "\n",
    "d = w1[..., :-3]\n",
    "print(d.shape)\n",
    "# Add one black col\n",
    "d = torch.cat([d, torch.zeros(*d.shape[:-1], 1) + float('nan')], dim=-1)\n",
    "d = torch.cat([d, torch.zeros(*d.shape[:-2], 1, d.shape[-1]) + float('nan')], dim=-2)\n",
    "d = einops.rearrange(d, 'agent obj out row col -> out (agent row) (obj col)')[..., :-1, :]\n",
    "b1 = torch.cat([b1, torch.zeros(*b1.shape[:-2], 1, b1.shape[-1]) + float('nan')], dim=-2)\n",
    "b1 = einops.rearrange(b1, 'agent obj out row col -> out (agent row) (obj col)')[..., :-1, :]\n",
    "print(d.shape, b1.shape)\n",
    "d = torch.cat([d, b1], dim=-1)\n",
    "# Remove weights close to zero\n",
    "# d[abs(d) < 0.1] = float('nan')\n",
    "imshow(d[:16], title='First layer weights', facet_col=0, facet_col_wrap=4,\n",
    "          # height=4000,\n",
    "          # width=None,\n",
    "          )\n"
   ]
  },
  {
   "cell_type": "code",
   "execution_count": null,
   "id": "451389ecd3d25bf5",
   "metadata": {},
   "outputs": [],
   "source": [
    "imshow(w1.flatten(2).mean(dim=2),\n",
    "          title=\"Mean of the weights of the switch layers\",\n",
    "          labels=dict(x=\"Object type\", y=\"Agent\"),\n",
    "       symetric=False,\n",
    "          )\n",
    "imshow(w1.flatten(2).abs().mean(dim=2), \n",
    "          title=\"Mean absolute value of the weights of the switch layers\",\n",
    "          labels=dict(x=\"Object type\", y=\"Agent\"),\n",
    "       symetric=False,\n",
    "          )\n",
    "imshow(w1.flatten(2).std(dim=2),\n",
    "            title=\"Std of the weights of the switch layers\",\n",
    "            labels=dict(x=\"Object type\", y=\"Agent\"),\n",
    "       symetric=False,\n",
    "          )\n"
   ]
  },
  {
   "cell_type": "code",
   "execution_count": null,
   "id": "675396154733477f",
   "metadata": {},
   "outputs": [],
   "source": [
    "last_layer: torch.nn.Linear = policy.policy.action_net\n",
    "last_weights = last_layer.weight.detach().cpu().clone()\n",
    "last_bias = last_layer.bias.detach().cpu().clone()\n",
    "net = policy.policy.mlp_extractor.policy_net.module\n",
    "\n",
    "weights = torch.cat([\n",
    "    last_weights.T @ net.switches[i].weight.detach().cpu().clone()\n",
    "    for i in range(3)\n",
    "], dim=0)\n",
    "imshow(weights)\n",
    "\n",
    "biases = torch.stack([net.switches[i].bias.detach().cpu() for i in range(3)], dim=1)\n",
    "imshow(biases)"
   ]
  },
  {
   "cell_type": "code",
   "execution_count": null,
   "id": "18b34be96b254156",
   "metadata": {},
   "outputs": [],
   "source": [
    "# compute correlations between rows of w2\n",
    "w2 = net.post_switch[1].weight.detach().cpu().clone()  # (64, 64)\n",
    "imshow(w2)\n",
    "w2 = w2 / w2.norm(dim=1, keepdim=True)\n",
    "corr = w2 @ w2.T\n",
    "\n",
    "# Cluster the correlations matrix\n",
    "import scipy.cluster.hierarchy as sch\n",
    "import scipy.spatial.distance as ssd\n",
    "import plotly.figure_factory as ff\n",
    "\n",
    "# Compute and plot first dendrogram.\n",
    "fig = ff.create_dendrogram(\n",
    "    corr.numpy(),\n",
    "    orientation='left',\n",
    "    labels=list(range(64)),\n",
    "    linkagefun=lambda x: sch.linkage(x, 'single'),\n",
    "    distfun=lambda x: ssd.pdist(x, 'euclidean'),\n",
    ")\n",
    "fig.update_layout(width=1000, height=1000)\n",
    "fig.show()\n",
    "\n",
    "# Remove the diagonal\n",
    "corr[range(64), range(64)] = float('nan')\n",
    "px.imshow(corr, width=1000, height=1000)"
   ]
  },
  {
   "cell_type": "markdown",
   "id": "d7d24673e959d72d",
   "metadata": {
    "collapsed": false
   },
   "source": [
    "# Looking at the activations"
   ]
  },
  {
   "cell_type": "code",
   "execution_count": null,
   "id": "60bd6cf7362bd994",
   "metadata": {},
   "outputs": [],
   "source": [
    "envs: list[M.ThreeGoalsEnv]\n",
    "n = 5000\n",
    "envs = [mk_env(M.ThreeGoalsEnv.constant(), disabled=False) for _ in range(n)]\n",
    "inputs = [env.reset()[0] for env in envs]\n",
    "with M.record_activations(policy.policy) as cache:\n",
    "    for i in inputs:\n",
    "        policy.predict(i)\n",
    "        \n",
    "print(cache)"
   ]
  },
  {
   "cell_type": "code",
   "execution_count": null,
   "id": "9a55c213b058b5eb",
   "metadata": {},
   "outputs": [],
   "source": [
    "observations = np.stack([obs['obs'] for obs in inputs])\n",
    "switches = np.stack([obs['switch'] for obs in inputs])\n",
    "print(\"Observations shape:\", observations.shape)\n",
    "print(\"Switches shape:\", switches.shape)"
   ]
  },
  {
   "cell_type": "code",
   "execution_count": null,
   "id": "62f7feb120e25b8",
   "metadata": {},
   "outputs": [],
   "source": [
    "goal_positions = torch.tensor([e.goal_positions for e in envs])\n",
    "agent_positions = torch.tensor([e.agent_pos for e in envs])\n",
    "red_goals = goal_positions[:, 0]\n",
    "green_goals = goal_positions[:, 1]\n",
    "blue_goals = goal_positions[:, 2]"
   ]
  },
  {
   "cell_type": "code",
   "execution_count": null,
   "id": "d417f1c39b6b80d",
   "metadata": {},
   "outputs": [],
   "source": [
    "# Find the correlation between each act and red_goal.x\n",
    "def one_hot_encode(arr, maxi=4):\n",
    "    # Set up one-hot encoding array\n",
    "    one_hot = np.zeros((*arr.shape, maxi))\n",
    "    # Populate the one-hot encoding array        \n",
    "    np.put_along_axis(one_hot, arr[..., None], 1, axis=-1)\n",
    "    return one_hot\n",
    "\n",
    "# to_check = goal_positions.flatten(1)\n",
    "# to_check = one_hot_encode(to_check)\n",
    "to_check = np.concatenate([\n",
    "    goal_positions.flatten(1),\n",
    "    agent_positions], \n",
    "    axis=-1)\n",
    "\n",
    "for name in (\"switches.0\", \"switches.1\"):\n",
    "    act = cache[name]\n",
    "    corrs = np.corrcoef(act, to_check, rowvar=False)\n",
    "    # remove the diagonal\n",
    "    corrs[range(corrs.shape[0]), range(corrs.shape[0])] = 0\n",
    "    imshow(corrs[32:])"
   ]
  },
  {
   "cell_type": "code",
   "execution_count": null,
   "id": "b3100b8c45e5d44f",
   "metadata": {},
   "outputs": [],
   "source": [
    "corr_red_blind = np.corrcoef(cache['switches.0'], goal_positions[:, 0], rowvar=False)\n",
    "corr_blue_color = np.corrcoef(cache['switches.1'], goal_positions[:, 2], rowvar=False)\n",
    "corr_red_blind = corr_red_blind[32:, :-2]\n",
    "corr_blue_color = corr_blue_color[32:, :-2]\n",
    "corrs = einops.rearrange([corr_red_blind, corr_blue_color], \n",
    "                         \"type dim neuron -> (dim type) neuron\")\n",
    "\n",
    "imshow(corrs)\n",
    "imshow(corr_red_blind)\n",
    "imshow(corr_blue_color)"
   ]
  },
  {
   "cell_type": "code",
   "execution_count": null,
   "id": "9a040d6c1950a9d0",
   "metadata": {},
   "outputs": [],
   "source": [
    "conv1 = next(m for m in policy.policy.modules() if isinstance(m, torch.nn.Conv2d))\n",
    "with torch.no_grad():\n",
    "    conv1.weight[:, 3] = 0\n"
   ]
  },
  {
   "cell_type": "code",
   "execution_count": null,
   "id": "cc15fad411bb6137",
   "metadata": {},
   "outputs": [],
   "source": [
    "def show_first_conv(policy):\n",
    "    conv1 = next(m for m in policy.policy.modules() if isinstance(m, torch.nn.Conv2d))\n",
    "    conv1 = conv1.weight.detach().numpy()\n",
    "    \n",
    "    in_channels = conv1.shape[1]\n",
    "    in_channel_names = [\"Empty\", \"Agent\", \"Red\", \"Green\", \"Blue\"][-in_channels:]\n",
    "\n",
    "    # Per channel norms\n",
    "    norms = np.linalg.norm(conv1, axis=(2, 3))\n",
    "    print(np.linalg.norm(conv1))\n",
    "    px.imshow(norms, \n",
    "              title=\"Norms of the weights of the first convolutional layer\",\n",
    "                labels=dict(x=\"Input channel\", y=\"Output channel\"),\n",
    "              x=in_channel_names,\n",
    "              width=500,\n",
    "              **ZERO_CENTERED).show()\n",
    "\n",
    "    conv1 = einops.repeat(conv1, \"out in row col -> out row (in col)\")\n",
    "    px.imshow(conv1, facet_col=0,\n",
    "              **ZERO_CENTERED,\n",
    "              # zmax=2, zmin=-2,\n",
    "              facet_col_wrap=4).show()\n",
    "    \n",
    "    \n",
    "show_first_conv(policy)"
   ]
  },
  {
   "cell_type": "code",
   "execution_count": null,
   "id": "5ab25e0bc205b5cc",
   "metadata": {},
   "outputs": [],
   "source": [
    "# Do a PCA on the data\n",
    "import csv\n",
    "import pandas as pd\n",
    "from sklearn.decomposition import PCA\n",
    "\n",
    "file = \"../data.csv\"\n",
    "with open(file, newline='') as csvfile:\n",
    "    reader = csv.DictReader(csvfile)\n",
    "    data = [row for row in reader]\n",
    "    \n",
    "data = pd.DataFrame(data)\n",
    "del data[\"Name\"]\n",
    "del data[\"_wandb\"]\n",
    "data = data.astype(float)\n",
    "x_axis = \"eval/full_color/true_goal_red/end_type_red\"\n",
    "y_axis = \"eval/full_color/true_goal_red/end_type_green\"\n",
    "\n",
    "# Print mean on the x and y axis\n",
    "print(data[x_axis].mean())\n",
    "print(data[y_axis].mean())\n",
    "\n",
    "pca = PCA(n_components=1)\n",
    "fitted = pca.fit_transform(data[[x_axis, y_axis]])\n",
    "\n",
    "px.histogram(fitted, marginal=\"rug\", title=\"PCA histogram\", width=1000).show()\n",
    "\n",
    "px.histogram(data[[x_axis, y_axis]],\n",
    "             barmode=\"overlay\",\n",
    "             marginal=\"rug\",\n",
    "             width=1000,\n",
    "             ).show()\n",
    "                \n",
    "px.histogram(data[x_axis] - data[y_axis],\n",
    "             marginal=\"rug\",\n",
    "             nbins=60\n",
    "             ).show()"
   ]
  },
  {
   "cell_type": "markdown",
   "id": "8cc844a9a5a8454e",
   "metadata": {
    "collapsed": false
   },
   "source": [
    "# Loading and plotting metrics of the models"
   ]
  },
  {
   "cell_type": "code",
   "execution_count": null,
   "id": "2af1704dc948d2a1",
   "metadata": {},
   "outputs": [],
   "source": [
    "models_dir = Path(\"../models\").resolve()\n",
    "# Show all the experiments (sub-folders)\n",
    "for exp in models_dir.iterdir():\n",
    "    if exp.is_dir():\n",
    "        print(exp.name)"
   ]
  },
  {
   "cell_type": "code",
   "execution_count": null,
   "id": "42359686985b9114",
   "metadata": {},
   "outputs": [],
   "source": [
    "from tqdm.notebook import tqdm\n",
    "import json\n",
    "\n",
    "# folder = \"3-goal-blind-one-hot\"\n",
    "folder = \"blind_three_goals_rgb_channel_reg\"\n",
    "folder = models_dir / folder\n",
    "print(\"Loading models from\", folder)\n",
    "models = [PPO.load(file) for file in tqdm(list(folder.glob(\"*.zip\")))]\n",
    "stats = [json.load(file.open()) for file in folder.glob(\"*.json\")]\n",
    "assert len(models) == len(stats)\n",
    "\n",
    "print(\"Loaded\", len(models), \"models\")"
   ]
  },
  {
   "cell_type": "code",
   "execution_count": null,
   "id": "ad7d13b9b06f2321",
   "metadata": {},
   "outputs": [],
   "source": [
    "from pprint import pprint\n",
    "pprint(stats[0])"
   ]
  },
  {
   "cell_type": "code",
   "execution_count": null,
   "id": "497de10b975adac8",
   "metadata": {},
   "outputs": [],
   "source": [
    "# Compute the norm of the red channel in the first conv layer\n",
    "def get_norms(model):\n",
    "    conv1 = next(m for m in model.policy.modules() if isinstance(m, torch.nn.Conv2d))\n",
    "    conv1 = conv1.weight.detach().numpy()\n",
    "    conv1 = einops.rearrange(conv1, \"out input row col -> input (out row col)\")\n",
    "    norms = np.linalg.norm(conv1, axis=1)\n",
    "    return norms\n",
    "\n",
    "\n",
    "channel_1 = 1  # red\n",
    "channel_2 = 2  # green\n",
    "channel_norms = np.stack([get_norms(model) for model in tqdm(models)])\n",
    "\n",
    "\n",
    "\n",
    "full_color_probas = np.array([\n",
    "    [\n",
    "        stat[\"eval\"][\"full_color\"][\"true_goal_red\"][f\"end_type_{type_}\"]\n",
    "        for type_ in [\"red\", \"green\", \"blue\", \"no goal\"]\n",
    "    ]\n",
    "    for stat in stats\n",
    "])\n",
    "# full_color_probas = np.array([stat[\"stats_full_color\"][0] for stat in stats])\n",
    "red_proba = full_color_probas[:, 0]\n",
    "\n",
    "px.scatter(x=channel_norms[:, channel_1], y=red_proba,\n",
    "           labels=dict(x=\"Norm of the red channel\", y=\"Probability of red\"),\n",
    "           title=\"Norm of the red channel vs probability of red\",\n",
    "           width=1000).show()\n",
    "\n",
    "px.scatter(x=full_color_probas[:, 1], y=red_proba,\n",
    "           labels=dict(x=\"Probability of green\", y=\"Probability of red\"),\n",
    "           title=\"Probability of red vs probability of green\",\n",
    "           width=1000).show()\n",
    "\n",
    "px.histogram(abs(red_proba.mean() - red_proba), marginal=\"rug\", \n",
    "             nbins=70,\n",
    "             title=\"Histogram of the probability of red\", width=1000).show()\n",
    "\n",
    "\n",
    "to_explain = red_proba\n",
    "# Plot the correlation between channel norms and probabilities\n",
    "corrs = np.corrcoef(channel_norms, to_explain, rowvar=False)\n",
    "px.imshow(corrs, \n",
    "          title=\"Correlation between channel norms and probabilities\",\n",
    "          labels=dict(x=\"Input channel\", y=\"Output channel\"),\n",
    "          x=[\"Empty\", \"Agent\", \"Red\", \"Green\", \"Blue\", \"Red prob\"][-len(corrs):],\n",
    "          width=1000,\n",
    "          **ZERO_CENTERED).show()\n",
    "\n",
    "# Do a linear regression from the channel norms to the probabilities\n",
    "from sklearn.linear_model import LinearRegression\n",
    "\n",
    "reg = LinearRegression().fit(channel_norms, to_explain)\n",
    "print(\"R2 score:\", reg.score(channel_norms, to_explain))\n",
    "print(\"Coefficients:\", reg.coef_)\n",
    "print(\"Intercept:\", reg.intercept_)"
   ]
  },
  {
   "cell_type": "markdown",
   "id": "29476c54f9d6afa1",
   "metadata": {
    "collapsed": false
   },
   "source": [
    "# Show what the baseline does \n",
    "\n",
    "Here the baseline of going to the red goal while avoinding the blue and ignoring the green one"
   ]
  },
  {
   "cell_type": "code",
   "execution_count": null,
   "id": "f2d64acb5fe75d0d",
   "metadata": {},
   "outputs": [],
   "source": [
    "env = mk_env_full_color()\n",
    "obs, _ = env.reset()\n",
    "print(obs)"
   ]
  },
  {
   "cell_type": "code",
   "execution_count": null,
   "id": "3195e60ba03afddf",
   "metadata": {},
   "outputs": [],
   "source": [
    "from baselines import Baseline\n",
    "class BaselineAvoidGreen(Baseline):\n",
    "    def _predict(self, obs, deterministic=False):\n",
    "        grid: np.ndarray = obs[:-3].reshape(4, 4, -1)\n",
    "        \n",
    "        agent_pos = self.find(grid, [1, 1, 1])\n",
    "        red_pos = self.find(grid, [1, 0, 0])\n",
    "        green_pos = self.find(grid, [0, 1, 0])\n",
    "        blue_pos = self.find(grid, [0, 0, 1])\n",
    "        \n",
    "        obstacles = np.zeros((4, 4), dtype=bool)\n",
    "        obstacles[blue_pos] = True\n",
    "        \n",
    "        path = self.find_path(agent_pos, red_pos, obstacles)\n",
    "        if path:\n",
    "            action = self.direction_to(agent_pos, path[1])\n",
    "            return action\n",
    "        else:\n",
    "            return self.random_action()\n",
    "\n",
    "# M.evaluate(BaselineAvoidGreen(), env, 1, height=400, width=1000)\n",
    "# M.evaluate(BaselineAvoidGreen(), env)\n",
    "M.make_stats(BaselineAvoidGreen(), env, 100000, \"Perfect agent going to red, avoiding blue, ignoring green\")\n"
   ]
  }
 ],
 "metadata": {
  "kernelspec": {
   "display_name": "Python 3 (ipykernel)",
   "language": "python",
   "name": "python3"
  },
  "language_info": {
   "codemirror_mode": {
    "name": "ipython",
    "version": 2
   },
   "file_extension": ".py",
   "mimetype": "text/x-python",
   "name": "python",
   "nbconvert_exporter": "python",
   "pygments_lexer": "ipython2",
   "version": "2.7.6"
  }
 },
 "nbformat": 4,
 "nbformat_minor": 5
}
