{
 "cells": [
  {
   "cell_type": "code",
   "execution_count": null,
   "id": "69677c152f22a9eb",
   "metadata": {
    "ExecuteTime": {
     "end_time": "2023-08-10T10:03:44.725710095Z",
     "start_time": "2023-08-10T10:03:44.683298165Z"
    }
   },
   "outputs": [],
   "source": [
    "%load_ext autoreload\n",
    "%autoreload 2"
   ]
  },
  {
   "cell_type": "code",
   "execution_count": null,
   "id": "initial_id",
   "metadata": {
    "ExecuteTime": {
     "end_time": "2023-08-10T10:03:44.684656121Z",
     "start_time": "2023-08-10T10:03:41.366735281Z"
    }
   },
   "outputs": [],
   "source": [
    "from pathlib import Path\n",
    "\n",
    "import einops\n",
    "import torch\n",
    "import wandb\n",
    "import numpy as np\n",
    "from stable_baselines3 import PPO\n",
    "from stable_baselines3.common.env_util import make_vec_env\n",
    "from stable_baselines3.common.env_checker import check_env\n",
    "from wandb.integration.sb3 import WandbCallback\n",
    "import plotly.express as px\n",
    "\n",
    "import src as M\n",
    "\n",
    "# For plotly, to have larger images\n",
    "BIG = dict(width=1600, height=1600)"
   ]
  },
  {
   "cell_type": "code",
   "execution_count": null,
   "id": "18b443ae4baaa9ff",
   "metadata": {
    "ExecuteTime": {
     "end_time": "2023-08-10T10:07:47.978732216Z",
     "start_time": "2023-08-10T10:07:47.751055421Z"
    }
   },
   "outputs": [],
   "source": [
    "red, green, blue = M.ThreeGoalsEnv.GOAL_CELLS\n",
    "env = lambda: (\n",
    "    M.ColorBlindWrapper.merged(\n",
    "        M.AddTrueGoalWrapper(\n",
    "            M.ThreeGoalsEnv()\n",
    "        ),\n",
    "        red, green\n",
    "    )\n",
    ")\n",
    "\n",
    "check_env(env())\n",
    "print(env())\n",
    "print(env().observation_space)\n",
    "print(env().action_space)\n",
    "o, _ = env().reset()\n",
    "switch = o['switch']\n",
    "print(f\"{switch=}\")\n",
    "obs = o['obs']\n",
    "print(obs[:80].astype(int).reshape(4, 4, -1))\n",
    "print(obs[80:].astype(int))\n",
    "\n"
   ]
  },
  {
   "cell_type": "code",
   "execution_count": null,
   "id": "497ebbd187325119",
   "metadata": {},
   "outputs": [],
   "source": [
    "net = M.SwitchMLP(4, (64, 64), 2, 3, 0)\n",
    "print(net)"
   ]
  },
  {
   "cell_type": "code",
   "execution_count": null,
   "id": "20fc878272530059",
   "metadata": {},
   "outputs": [],
   "source": [
    "x = torch.tensor([\n",
    "    [1.0, 2, 3, 4],\n",
    "    [4.0, 3, 2, 1],\n",
    "])\n",
    "switch_idx = [0, 2]\n",
    "switch = torch.zeros((2, 3))\n",
    "switch[range(2), switch_idx] = 1\n",
    "\n",
    "print(x)\n",
    "print(switch)\n",
    "print(net(x, switch))\n"
   ]
  },
  {
   "cell_type": "code",
   "execution_count": null,
   "id": "da550833cda11690",
   "metadata": {},
   "outputs": [],
   "source": [
    "def unique(x, *, __previous=set()):\n",
    "    \"\"\"Return the argument, if it was never seen before, otherwise raise ValueError\"\"\"\n",
    "    if x in __previous:\n",
    "        raise ValueError(f\"Duplicate value {x}\")\n",
    "    __previous.add(x)\n",
    "    return x\n",
    "\n",
    "class WandbWithBehaviorCallback(WandbCallback):\n",
    "    def __init__(self, show_every=10, **kwargs):\n",
    "        self.show_every = show_every\n",
    "        self.time = 0\n",
    "        super().__init__(**kwargs)\n",
    "    def _on_rollout_start(self) -> None:\n",
    "        super()._on_rollout_start()\n",
    "        # Show every  10 episodes\n",
    "        self.time += 1\n",
    "        if self.time % self.show_every == 0:\n",
    "            M.show_behavior(self.model, env(), max_len=20, add_to_wandb=True, plot=False)"
   ]
  },
  {
   "cell_type": "code",
   "execution_count": null,
   "id": "4466be5caadc1e54",
   "metadata": {
    "ExecuteTime": {
     "end_time": "2023-08-09T15:06:55.052261500Z",
     "start_time": "2023-08-09T15:01:17.364797232Z"
    }
   },
   "outputs": [],
   "source": [
    "env_size = 4\n",
    "red, green, blue = M.ThreeGoalsEnv.GOAL_CELLS\n",
    "env = lambda: (\n",
    "    M.ColorBlindWrapper.merged(\n",
    "        M.AddTrueGoalWrapper(\n",
    "            M.ThreeGoalsEnv(env_size)\n",
    "        ),\n",
    "        red,\n",
    "        # green,\n",
    "    )\n",
    ")\n",
    "env = lambda: (\n",
    "    M.MergeGoalWithObsWrapper(\n",
    "        M.ColorBlindWrapper(\n",
    "            M.AddTrueGoalWrapper(\n",
    "                M.ThreeGoalsEnv(env_size)\n",
    "            ),\n",
    "            1,\n",
    "            lambda _switch: (0, [0, 1])\n",
    "        )\n",
    "    )\n",
    ")\n",
    "\n",
    "n_env = 4\n",
    "lr_start, lr_end = 5e-3, 2e-5\n",
    "policy = PPO(\n",
    "    # \"MlpPolicy\",\n",
    "    M.SwitchActorCriticPolicy,\n",
    "    make_vec_env(env, n_envs=n_env, seed=42),\n",
    "    policy_kwargs=dict(\n",
    "        arch_kwargs=dict(\n",
    "            switched_layer=0,\n",
    "            hidden=[64, 32, 32],\n",
    "            out_dim=32,\n",
    "            n_switches=env().n_scenarios,\n",
    "            # l1_reg=3e-5,\n",
    "        ),\n",
    "    ),\n",
    "    n_steps=2_048 // n_env,\n",
    "    tensorboard_log=\"run_logs\",\n",
    "    # device='cuda:1'\n",
    ")\n",
    "print(policy.policy)\n",
    "\n",
    "wandb.init(\n",
    "    sync_tensorboard=True,  # auto-upload sb3's tensorboard metrics\n",
    "    save_code=True,\n",
    "    config=dict(\n",
    "        env_size=env_size,\n",
    "        lr_start=lr_start,\n",
    "        lr_end=lr_end,\n",
    "        arch=policy.policy_kwargs['arch_kwargs']\n",
    "    ),\n",
    "    project=\"switched-3goals-blind\",\n",
    "    notes=unique(\"\"\"\n",
    "Focus: find an agent that generalises in two different way.\n",
    "\n",
    "red/green blind, only one agent (fix bug ×2)\n",
    "\"\"\")\n",
    ")\n",
    "\n",
    "policy.learn(total_timesteps=600_000, callback=WandbWithBehaviorCallback())"
   ]
  },
  {
   "cell_type": "code",
   "execution_count": null,
   "id": "55c5a0f6d83e0a64",
   "metadata": {},
   "outputs": [],
   "source": [
    "policy.lr_schedule = lambda _: 1e-6\n",
    "policy.learn(total_timesteps=100_000, reset_num_timesteps=False, callback=WandbWithBehaviorCallback())"
   ]
  },
  {
   "cell_type": "code",
   "execution_count": null,
   "id": "36c422eb1efa3487",
   "metadata": {
    "ExecuteTime": {
     "end_time": "2023-08-09T13:56:33.309502209Z",
     "start_time": "2023-08-09T13:56:33.131974223Z"
    }
   },
   "outputs": [],
   "source": [
    "# M.show_behavior(policy, env(), width=1600, height=1600, max_len=20\n",
    "                # add_to_wandb=True,\n",
    "                # )\n",
    "    \n",
    "wrappers = [\n",
    "    M.AddTrueGoalWrapper,\n",
    "    lambda e: M.ColorBlindWrapper.merged(e, red, disabled=True)\n",
    "]\n",
    "M.show_behavior(policy, M.ThreeGoalsEnv.interesting(4, 10, wrappers), **BIG)"
   ]
  },
  {
   "cell_type": "code",
   "execution_count": null,
   "id": "1d73867436b9ea6d",
   "metadata": {
    "ExecuteTime": {
     "end_time": "2023-08-09T15:07:42.335287567Z",
     "start_time": "2023-08-09T15:07:41.881844504Z"
    }
   },
   "outputs": [],
   "source": [
    "def add_wrappers(e, disabled):\n",
    "    e = M.AddTrueGoalWrapper(e)\n",
    "    e = M.ColorBlindWrapper.merged(\n",
    "        e,\n",
    "        red, \n",
    "        # green,\n",
    "        disabled=disabled)\n",
    "    return e\n",
    "\n",
    "envs = []\n",
    "for i in range(6):\n",
    "    base_env = M.ThreeGoalsEnv.constant(env_size, true_goal={\"red\": 1, \"green\": 1})\n",
    "    # env_blind = add_wrappers(base_env, disabled=False)\n",
    "    # envs.append(env_blind)            [(0, 1), (1, 1), (0, 2)], \n",
    "    env_color = add_wrappers(base_env, disabled=True)\n",
    "    envs.append(env_color)\n",
    "        \n",
    "M.show_behavior(policy, envs, **BIG)"
   ]
  },
  {
   "cell_type": "code",
   "execution_count": null,
   "id": "80b2f446e733e58a",
   "metadata": {
    "ExecuteTime": {
     "end_time": "2023-08-09T15:08:18.030449868Z",
     "start_time": "2023-08-09T15:08:03.821473553Z"
    }
   },
   "outputs": [],
   "source": [
    "from tqdm.notebook import tqdm\n",
    "import heapq\n",
    "\n",
    "def evaluate(policy_, env_: M.ThreeGoalsEnv, n_episodes=1000, max_len=20, show_n=20):\n",
    "    \"\"\"Return the proportion of episodes where the agent reached the true goal.\"\"\"\n",
    "    found = 0\n",
    "    wrong_goal = 0\n",
    "    fails = []\n",
    "    longest_successes = []\n",
    "    for _ in tqdm(range(n_episodes)):\n",
    "        trajectory = M.Trajectory.from_policy(\n",
    "            policy_, env_, max_len=max_len, \n",
    "            end_condition=lambda locals_: env_.agent_pos == env_.goal_positions[env_.true_goal_idx]\n",
    "        )\n",
    "        if trajectory.ended == \"condition\":\n",
    "            found += 1\n",
    "            longest_successes.append(trajectory)\n",
    "        elif len(fails) < show_n:\n",
    "            fails.append(trajectory)\n",
    "        if trajectory.ended == \"terminated\":\n",
    "            wrong_goal += 1\n",
    "            \n",
    "    if show_n > 0:\n",
    "        longest_successes.sort(key=len, reverse=True)\n",
    "        longest_successes = longest_successes[:show_n]\n",
    "        M.show_behavior(policy_, longest_successes + fails)\n",
    "        \n",
    "    return {\n",
    "        \"Correct goal\": found / n_episodes,\n",
    "        \"Wrong goal\": wrong_goal / n_episodes,\n",
    "        \"No goal\": (n_episodes - found - wrong_goal) / n_episodes,\n",
    "    }\n",
    "\n",
    "evaluate(policy, env())"
   ]
  },
  {
   "cell_type": "code",
   "execution_count": null,
   "id": "7257d5ad74724bd6",
   "metadata": {},
   "outputs": [],
   "source": [
    "# Print all models\n",
    "models_dir = Path(\"models\")\n",
    "for model_path in sorted(models_dir.glob(\"*.zip\")):\n",
    "    print(model_path.name)"
   ]
  },
  {
   "cell_type": "code",
   "execution_count": null,
   "id": "4efbadfeb4c036e6",
   "metadata": {},
   "outputs": [],
   "source": [
    "name = \"switched-blind=rg-4x4-switch=first-L1=1e-5\"\n",
    "path = models_dir / f\"{name}.zip\"\n",
    "if path.exists():\n",
    "    print(\"Loading existing model\")\n",
    "    previous_policy = policy  # Saved, in case I wanted to save it, but forgot to change the name\n",
    "    policy = PPO.load(path)\n",
    "else:\n",
    "    print(f\"Saving model to {path}\")\n",
    "    policy.save(path)"
   ]
  },
  {
   "cell_type": "markdown",
   "id": "5ae57831fa740ad",
   "metadata": {
    "collapsed": false
   },
   "source": [
    "# Visualize the weights"
   ]
  },
  {
   "cell_type": "code",
   "execution_count": null,
   "id": "9c4133102ea0ef53",
   "metadata": {
    "ExecuteTime": {
     "end_time": "2023-08-09T13:36:49.983942433Z",
     "start_time": "2023-08-09T13:36:49.569482370Z"
    }
   },
   "outputs": [],
   "source": [
    "def imshow(x, symetric: bool = True, **kwargs):\n",
    "    h, w = x.shape[-2:]\n",
    "    if 'facet_col' in kwargs:\n",
    "        wrap = kwargs.get('facet_col_wrap', 1)\n",
    "        h *= np.ceil(x.shape[kwargs['facet_col']] / wrap)\n",
    "        w *= wrap\n",
    "    if symetric:\n",
    "        kwargs.setdefault(\"color_continuous_midpoint\", 0)\n",
    "        kwargs.setdefault(\"color_continuous_scale\", \"RdBu\")\n",
    "    width = 50 + w * 25\n",
    "    height = h * 25 + 50 * ('title' in kwargs)\n",
    "    while width < 500 and height < 500:\n",
    "        width *= 2\n",
    "        height *= 2\n",
    "    new = dict(\n",
    "        width=max(300, width),\n",
    "        height=max(300, height),\n",
    "        facet_row_spacing=0.01,\n",
    "        facet_col_spacing=0.01,\n",
    "    )\n",
    "    kwargs = {**new, **kwargs}\n",
    "    px.imshow(x, **kwargs).show()\n",
    "\n",
    "\n",
    "switch_biases = policy.policy.mlp_extractor.switch_biases\n",
    "print(\"Biases shape:\", switch_biases.shape)\n",
    "print(\"Max abs bias:\", switch_biases.abs().max(dim=-1).values)\n",
    "imshow(switch_biases, title='Biases of the switch layers')"
   ]
  },
  {
   "cell_type": "code",
   "execution_count": null,
   "id": "e14f1569b1d07b04",
   "metadata": {
    "ExecuteTime": {
     "end_time": "2023-08-09T13:36:54.389330826Z",
     "start_time": "2023-08-09T13:36:54.060782235Z"
    }
   },
   "outputs": [],
   "source": [
    "# Plot the three switch layers\n",
    "\n",
    "switch_layers_weights = policy.policy.mlp_extractor.switch_weights\n",
    "\n",
    "# shape of a switch (out_dim, row, col, obj_type)\n",
    "w1 = einops.rearrange(switch_layers_weights, 'agent out_dim (row col obj_type) -> agent obj_type out_dim row col', row=4, col=4)\n",
    "b1 = einops.repeat(policy.policy.mlp_extractor.switch_biases, 'agent out_dim -> agent 1 out_dim 4 1')\n",
    "\n",
    "avg = w1.mean(dim=0)\n",
    "TYPES = ['empty', 'agent', 'goal_red', 'goal_green', 'goal_blue']\n",
    "EMPTY, AGENT, RED, GREEN, BLUE = range(5)\n",
    "\n",
    "print(w1.shape, avg.shape)\n",
    "# d = w1[:, EMPTY] - avg[EMPTY] \n",
    "d = avg\n",
    "\n",
    "d = w1\n",
    "print(d.shape)\n",
    "# Add one black col\n",
    "d = torch.cat([d, torch.zeros(*d.shape[:-1], 1) + float('nan')], dim=-1)\n",
    "d = torch.cat([d, torch.zeros(*d.shape[:-2], 1, d.shape[-1]) + float('nan')], dim=-2)\n",
    "d = einops.rearrange(d, 'agent obj out row col -> out (agent row) (obj col)')[..., :-1, :]\n",
    "b1 = torch.cat([b1, torch.zeros(*b1.shape[:-2], 1, b1.shape[-1]) + float('nan')], dim=-2)\n",
    "b1 = einops.rearrange(b1, 'agent obj out row col -> out (agent row) (obj col)')[..., :-1, :]\n",
    "print(d.shape, b1.shape)\n",
    "d = torch.cat([d, b1], dim=-1)\n",
    "# Remove weights close to zero\n",
    "# d[abs(d) < 0.1] = float('nan')\n",
    "imshow(d[:16], title='First layer weights', facet_col=0, facet_col_wrap=4,\n",
    "          # height=4000,\n",
    "          # width=None,\n",
    "          )\n"
   ]
  },
  {
   "cell_type": "code",
   "execution_count": null,
   "id": "451389ecd3d25bf5",
   "metadata": {},
   "outputs": [],
   "source": [
    "imshow(w1.flatten(2).mean(dim=2),\n",
    "          title=\"Mean of the weights of the switch layers\",\n",
    "          labels=dict(x=\"Object type\", y=\"Agent\"),\n",
    "       symetric=False,\n",
    "          )\n",
    "imshow(w1.flatten(2).abs().mean(dim=2), \n",
    "          title=\"Mean absolute value of the weights of the switch layers\",\n",
    "          labels=dict(x=\"Object type\", y=\"Agent\"),\n",
    "       symetric=False,\n",
    "          )\n",
    "imshow(w1.flatten(2).std(dim=2),\n",
    "            title=\"Std of the weights of the switch layers\",\n",
    "            labels=dict(x=\"Object type\", y=\"Agent\"),\n",
    "       symetric=False,\n",
    "          )\n"
   ]
  },
  {
   "cell_type": "code",
   "execution_count": null,
   "id": "675396154733477f",
   "metadata": {},
   "outputs": [],
   "source": [
    "last_layer: torch.nn.Linear = policy.policy.action_net\n",
    "last_weights = last_layer.weight.detach().cpu().clone()\n",
    "last_bias = last_layer.bias.detach().cpu().clone()\n",
    "\n",
    "weights = torch.cat([\n",
    "    last_weights.T @ net.switches[i].weight.detach().cpu().clone()\n",
    "    for i in range(3)\n",
    "], dim=0)\n",
    "imshow(weights)\n",
    "\n",
    "biases = torch.stack([net.switches[i].bias.detach().cpu() for i in range(3)], dim=1)\n",
    "imshow(biases)"
   ]
  },
  {
   "cell_type": "code",
   "execution_count": null,
   "id": "18b34be96b254156",
   "metadata": {},
   "outputs": [],
   "source": [
    "# compute correlations between rows of w2\n",
    "w2 = net.post_switch[1].weight.detach().cpu().clone()  # (64, 64)\n",
    "imshow(w2)\n",
    "w2 = w2 / w2.norm(dim=1, keepdim=True)\n",
    "corr = w2 @ w2.T\n",
    "\n",
    "# Cluster the correlations matrix\n",
    "import scipy.cluster.hierarchy as sch\n",
    "import scipy.spatial.distance as ssd\n",
    "import plotly.figure_factory as ff\n",
    "\n",
    "# Compute and plot first dendrogram.\n",
    "fig = ff.create_dendrogram(\n",
    "    corr.numpy(),\n",
    "    orientation='left',\n",
    "    labels=list(range(64)),\n",
    "    linkagefun=lambda x: sch.linkage(x, 'single'),\n",
    "    distfun=lambda x: ssd.pdist(x, 'euclidean'),\n",
    ")\n",
    "fig.update_layout(width=1000, height=1000)\n",
    "fig.show()\n",
    "\n",
    "# Remove the diagonal\n",
    "corr[range(64), range(64)] = float('nan')\n",
    "px.imshow(corr, width=1000, height=1000)"
   ]
  },
  {
   "cell_type": "markdown",
   "id": "d7d24673e959d72d",
   "metadata": {
    "collapsed": false
   },
   "source": [
    "# Looking at the activations"
   ]
  },
  {
   "cell_type": "code",
   "execution_count": null,
   "id": "60bd6cf7362bd994",
   "metadata": {},
   "outputs": [],
   "source": [
    "from hooks import record_activations\n",
    "\n",
    "envs: list[M.ThreeGoalsEnv]\n",
    "n = 5000\n",
    "envs = [add_wrappers(M.ThreeGoalsEnv.constant(), disabled=False) for _ in range(n)]\n",
    "inputs = [env.reset()[0] for env in envs]\n",
    "with record_activations(policy.policy) as cache:\n",
    "    for i in inputs:\n",
    "        policy.predict(i)\n",
    "        \n",
    "print(cache)"
   ]
  },
  {
   "cell_type": "code",
   "execution_count": null,
   "id": "9a55c213b058b5eb",
   "metadata": {},
   "outputs": [],
   "source": [
    "observations = np.stack([obs['obs'] for obs in inputs])\n",
    "switches = np.stack([obs['switch'] for obs in inputs])\n",
    "print(\"Observations shape:\", observations.shape)\n",
    "print(\"Switches shape:\", switches.shape)"
   ]
  },
  {
   "cell_type": "code",
   "execution_count": null,
   "id": "62f7feb120e25b8",
   "metadata": {},
   "outputs": [],
   "source": [
    "goal_positions = torch.tensor([e.goal_positions for e in envs])\n",
    "agent_positions = torch.tensor([e.agent_pos for e in envs])\n",
    "red_goals = goal_positions[:, 0]\n",
    "green_goals = goal_positions[:, 1]\n",
    "blue_goals = goal_positions[:, 2]"
   ]
  },
  {
   "cell_type": "code",
   "execution_count": null,
   "id": "d417f1c39b6b80d",
   "metadata": {},
   "outputs": [],
   "source": [
    "# Find the correlation between each act and red_goal.x\n",
    "def one_hot_encode(arr, maxi=4):\n",
    "    # Set up one-hot encoding array\n",
    "    one_hot = np.zeros((*arr.shape, maxi))\n",
    "    # Populate the one-hot encoding array        \n",
    "    np.put_along_axis(one_hot, arr[..., None], 1, axis=-1)\n",
    "    return one_hot\n",
    "\n",
    "# to_check = goal_positions.flatten(1)\n",
    "# to_check = one_hot_encode(to_check)\n",
    "to_check = np.concatenate([\n",
    "    goal_positions.flatten(1),\n",
    "    agent_positions], \n",
    "    axis=-1)\n",
    "\n",
    "for name in (\"switches.0\", \"switches.1\"):\n",
    "    act = cache[name]\n",
    "    corrs = np.corrcoef(act, to_check, rowvar=False)\n",
    "    # remove the diagonal\n",
    "    corrs[range(corrs.shape[0]), range(corrs.shape[0])] = 0\n",
    "    imshow(corrs[32:])"
   ]
  },
  {
   "cell_type": "code",
   "execution_count": null,
   "id": "b3100b8c45e5d44f",
   "metadata": {},
   "outputs": [],
   "source": [
    "corr_red_blind = np.corrcoef(cache['switches.0'], goal_positions[:, 0], rowvar=False)\n",
    "corr_blue_color = np.corrcoef(cache['switches.1'], goal_positions[:, 2], rowvar=False)\n",
    "corr_red_blind = corr_red_blind[32:, :-2]\n",
    "corr_blue_color = corr_blue_color[32:, :-2]\n",
    "corrs = einops.rearrange([corr_red_blind, corr_blue_color], \n",
    "                         \"type dim neuron -> (dim type) neuron\")\n",
    "\n",
    "imshow(corrs)\n",
    "imshow(corr_red_blind)\n",
    "imshow(corr_blue_color)"
   ]
  },
  {
   "cell_type": "code",
   "execution_count": null,
   "id": "cc15fad411bb6137",
   "metadata": {},
   "outputs": [],
   "source": []
  }
 ],
 "metadata": {
  "kernelspec": {
   "display_name": "Python 3 (ipykernel)",
   "language": "python",
   "name": "python3"
  },
  "language_info": {
   "codemirror_mode": {
    "name": "ipython",
    "version": 2
   },
   "file_extension": ".py",
   "mimetype": "text/x-python",
   "name": "python",
   "nbconvert_exporter": "python",
   "pygments_lexer": "ipython2",
   "version": "2.7.6"
  }
 },
 "nbformat": 4,
 "nbformat_minor": 5
}
