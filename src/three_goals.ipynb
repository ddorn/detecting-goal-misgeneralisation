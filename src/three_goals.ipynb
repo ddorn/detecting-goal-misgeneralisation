{
 "cells": [
  {
   "cell_type": "code",
   "execution_count": null,
   "id": "69677c152f22a9eb",
   "metadata": {
    "ExecuteTime": {
     "end_time": "2023-08-15T15:21:42.187725973Z",
     "start_time": "2023-08-15T15:21:42.165668732Z"
    }
   },
   "outputs": [],
   "source": [
    "from stable_baselines3.common.monitor import Monitor\n",
    "%load_ext autoreload\n",
    "%autoreload 2"
   ]
  },
  {
   "cell_type": "code",
   "execution_count": null,
   "id": "initial_id",
   "metadata": {
    "ExecuteTime": {
     "end_time": "2023-08-15T15:21:42.714621259Z",
     "start_time": "2023-08-15T15:21:42.687744880Z"
    }
   },
   "outputs": [],
   "source": [
    "from pathlib import Path\n",
    "from random import randint\n",
    "\n",
    "import einops\n",
    "import numpy as np\n",
    "import plotly.express as px\n",
    "import torch\n",
    "import wandb\n",
    "from stable_baselines3 import PPO\n",
    "from stable_baselines3.common.env_checker import check_env\n",
    "from stable_baselines3.common.env_util import make_vec_env\n",
    "from torch import nn\n",
    "from torchinfo import torchinfo\n",
    "\n",
    "import src as M\n",
    "\n",
    "# For plotly, to have larger images\n",
    "BIG = dict(width=1600, height=1600)\n",
    "ZERO_CENTERED = dict(color_continuous_scale=\"RdBu\", color_continuous_midpoint=0)"
   ]
  },
  {
   "cell_type": "code",
   "execution_count": null,
   "id": "c53a966f3a89b3b7",
   "metadata": {
    "ExecuteTime": {
     "end_time": "2023-08-15T15:21:43.471571269Z",
     "start_time": "2023-08-15T15:21:43.452605146Z"
    }
   },
   "outputs": [],
   "source": [
    "ENV_SIZE = 4\n",
    "\n",
    "mk_env_generator = lambda full_color: M.wrap(\n",
    "    lambda: M.ThreeGoalsEnv(ENV_SIZE, step_reward=0.0),\n",
    "    # lambda e: M.ColorBlindWrapper(e, reduction='max', reward_indistinguishable_goals=True, disabled=full_color),\n",
    "    lambda e: M.OneHotColorBlindWrapper(e, reward_indistinguishable_goals=True, disabled=full_color),\n",
    "    lambda e: M.AddTrueGoalToObsFlat(e),\n",
    "    # lambda e: M.AddSwitch(e, 1, lambda _: 0),  # No switch, but we still use SwitchMLP as the architecture...\n",
    ")\n",
    "mk_env = mk_env_generator(full_color=False)\n",
    "mk_env_full_color = mk_env_generator(full_color=True)"
   ]
  },
  {
   "cell_type": "code",
   "execution_count": null,
   "id": "18b443ae4baaa9ff",
   "metadata": {
    "ExecuteTime": {
     "end_time": "2023-08-15T15:21:44.126448859Z",
     "start_time": "2023-08-15T15:21:43.926382011Z"
    }
   },
   "outputs": [],
   "source": [
    "# env = mk_env_full_color()\n",
    "env = mk_env()\n",
    "\n",
    "print(env)\n",
    "print(\"Observation space:\", env.observation_space)\n",
    "print(\"Action space:\", env.action_space)\n",
    "check_env(env)\n",
    "obs, _ = env.reset()\n",
    "\n",
    "if isinstance(obs, dict):\n",
    "    switch = obs['switch']\n",
    "    print(f\"{switch=}\")\n",
    "    obs = obs['obs']\n",
    "    \n",
    "print(f\"{obs.shape=}\")\n",
    "px.imshow(obs[:-\n",
    "3].reshape(4, 4, 3)).show()\n",
    "print(obs[-3:])\n",
    "# print(obs[:80].astype(int).reshape(4, 4, -1))\n",
    "# print(obs[80:].astype(int))\n",
    "\n"
   ]
  },
  {
   "cell_type": "code",
   "execution_count": null,
   "id": "67db6b9034e4a09b",
   "metadata": {
    "ExecuteTime": {
     "end_time": "2023-08-15T17:46:15.498151432Z",
     "start_time": "2023-08-15T17:46:13.280117621Z"
    }
   },
   "outputs": [],
   "source": [
    "arch = M.Split(-3,\n",
    "   left= nn.Sequential(\n",
    "       M.Rearrange(\"... (h w c) -> ... c h w\", h=ENV_SIZE, w=ENV_SIZE, c=5),\n",
    "       M.PerChannelL1WeightDecay(\n",
    "           nn.Conv2d(5, 8, 3, padding=1),\n",
    "           weight_decay=0,\n",
    "           name_filter=\"weight\",\n",
    "       ),\n",
    "       nn.ReLU(),\n",
    "       nn.Conv2d(8, 8, 3, padding=1),\n",
    "       nn.ReLU(),\n",
    "       # nn.Conv2d(16, 4, 3, padding=1),\n",
    "       # nn.ReLU(),\n",
    "       nn.Flatten(-3),\n",
    "   ),\n",
    "   right=nn.Identity(),\n",
    ")\n",
    "\n",
    "arch = nn.Sequential(\n",
    "    arch,\n",
    "    # A.Rearrange(\"... h w c -> ... c h w\", h=ENV_SIZE, w=ENV_SIZE, c=3),\n",
    "    # nn.Conv2d(3, 8, 3, padding=1),\n",
    "    # nn.ReLU(),\n",
    "    # nn.Conv2d(8, 8, 3, padding=1),\n",
    "    # nn.ReLU(),\n",
    "    nn.LazyLinear(32),\n",
    "    nn.ReLU(),\n",
    "    nn.Linear(32, 32),\n",
    "    nn.ReLU(),\n",
    ")\n",
    "\n",
    "print(torchinfo.summary(arch, input_size=(7, *obs.shape), depth=4))\n",
    "print(arch)"
   ]
  },
  {
   "cell_type": "code",
   "execution_count": null,
   "id": "4466be5caadc1e54",
   "metadata": {
    "ExecuteTime": {
     "end_time": "2023-08-15T17:50:47.829818193Z",
     "start_time": "2023-08-15T17:46:17.472018659Z"
    }
   },
   "outputs": [],
   "source": [
    "learning_rate = 1e-3\n",
    "weight_decay = 1e-2\n",
    "seed = randint(0, 2**32 - 1)\n",
    "n_env = 4\n",
    "use_wandb = True\n",
    "\n",
    "# assert not isinstance(arch, M.L1WeightDecay), \"You forgot to re-run the arch definition\"\n",
    "# arch = M.L1WeightDecay(arch, l1_weight_decay)\n",
    "\n",
    "policy = PPO(\n",
    "    M.CustomActorCriticPolicy,\n",
    "    make_vec_env(mk_env, n_envs=n_env),\n",
    "    policy_kwargs=dict(\n",
    "        arch=arch,\n",
    "        # optimizer_kwargs=dict(weight_decay=0),\n",
    "    ),\n",
    "    n_steps=2_048 // n_env,\n",
    "    tensorboard_log=\"../run_logs\",\n",
    "    seed=seed,\n",
    "    learning_rate=lambda f: f * learning_rate,\n",
    "    device='cpu',\n",
    ")\n",
    "print(policy.policy)\n",
    "print(\"Total number of parameters:\", sum(p.numel() for p in policy.policy.parameters()))\n",
    "\n",
    "if use_wandb:\n",
    "    wandb.init(\n",
    "        sync_tensorboard=True,  # auto-upload sb3's tensorboard metrics\n",
    "        save_code=True,\n",
    "        config=dict(\n",
    "            l1_weight_decay=weight_decay,\n",
    "            arch=str(arch),\n",
    "            seed=seed,\n",
    "        ),\n",
    "        project=\"3goals-blind\",\n",
    "        notes=M.unique(\"\"\"\n",
    "Trying to get the per-channel regularisation to work.\n",
    "533: First try -> Fail\n",
    "534: Second try -> Slight red pref :s\n",
    "535: Added logging to see the per-channel l1 norm, and also averaged over the out channels too now\n",
    "536: Increase wd to 1e-3. Use now `w -= w * max(per_channel) * wd` instead of `w -= w / (1e-8 + norm(per_channel)) * wd`\n",
    "539: Try tensorboard logging -> meh\n",
    "540: Back to wandb\n",
    "541: One more try to make the logs work\n",
    "542: Forgot to add the logger\n",
    "543: Didn't work before. It doens work... -> Seems to make every channel equal\n",
    "544: Using w -= max(per channel) * wd, with wd=1e-3\n",
    "546: It did not log. Added an assert to make sure the l1 weight decay is actually applied\n",
    "552: Fixed l1 not applying -> failed impl\n",
    "553: use `w -= w.sign() * max(per_channel) * wd`. Not better\n",
    "554: now w[min channel] -= w * wd. Also wd = 1. Damn, the Agent channel got destroyed!\n",
    "555: Re-run, but also use default l2 wd on other params\n",
    "556: Re-run, lower wd to 1e-2\n",
    "557: Use w -= w * max(per channel) ** 0.5 * wd\n",
    "\"\"\"))\n",
    "    \n",
    "\n",
    "callbacks = [M.ProgressBarCallback(), \n",
    "             M.WeightDecayCallback(lambda f: (1-f) * weight_decay)]\n",
    "if use_wandb:\n",
    "    callbacks.append(M.WandbWithBehaviorCallback(mk_env()))\n",
    "policy.learn(total_timesteps=400_000, callback=callbacks)"
   ]
  },
  {
   "cell_type": "code",
   "execution_count": null,
   "id": "55c5a0f6d83e0a64",
   "metadata": {
    "ExecuteTime": {
     "end_time": "2023-08-15T18:00:08.156979361Z",
     "start_time": "2023-08-15T17:56:59.215622711Z"
    }
   },
   "outputs": [],
   "source": [
    "# policy.lr_schedule = lambda _: 2e-4\n",
    "# policy.policy.mlp_extractor.policy_net.weight_decay = 3e-4\n",
    "policy.learn(total_timesteps=300_000, reset_num_timesteps=False, callback=callbacks)"
   ]
  },
  {
   "cell_type": "code",
   "execution_count": null,
   "id": "15fa4ef19630a801",
   "metadata": {
    "ExecuteTime": {
     "end_time": "2023-08-15T18:00:23.470210481Z",
     "start_time": "2023-08-15T18:00:08.158424583Z"
    }
   },
   "outputs": [],
   "source": [
    "M.make_stats(policy, mk_env(), n_episodes=10_000, subtitle=\"Blind agent with blind inputs\");"
   ]
  },
  {
   "cell_type": "code",
   "execution_count": null,
   "id": "6d6900cfa006dbe5",
   "metadata": {
    "ExecuteTime": {
     "end_time": "2023-08-15T18:00:35.437638651Z",
     "start_time": "2023-08-15T18:00:23.469682797Z"
    }
   },
   "outputs": [],
   "source": [
    "M.make_stats(policy, mk_env_full_color(),\n",
    "             n_episodes=10_000,\n",
    "             subtitle=\"Blind agent with full color inputs\");"
   ]
  },
  {
   "cell_type": "code",
   "execution_count": null,
   "id": "80b2f446e733e58a",
   "metadata": {},
   "outputs": [],
   "source": [
    "color = 1\n",
    "M.evaluate(policy, mk_env_generator(color)(), n_episodes=1000)"
   ]
  },
  {
   "cell_type": "code",
   "execution_count": null,
   "id": "36c422eb1efa3487",
   "metadata": {},
   "outputs": [],
   "source": [
    "M.show_behavior(policy, M.ThreeGoalsEnv.interesting(4, 10, [mk_env]), **BIG)"
   ]
  },
  {
   "cell_type": "code",
   "execution_count": null,
   "id": "1d73867436b9ea6d",
   "metadata": {},
   "outputs": [],
   "source": [
    "envs = []\n",
    "for i in range(6):\n",
    "    base_env = M.ThreeGoalsEnv.constant(ENV_SIZE, true_goal={\"red\": 1, \"green\": 1})\n",
    "    envs.append(mk_env(base_env))\n",
    "    envs.append(mk_env_full_color(base_env))\n",
    "        \n",
    "M.show_behavior(policy, envs, **BIG)"
   ]
  },
  {
   "cell_type": "markdown",
   "id": "98f45fc72e82ae17",
   "metadata": {
    "collapsed": false
   },
   "source": [
    "# Load and Save models"
   ]
  },
  {
   "cell_type": "code",
   "execution_count": null,
   "id": "7257d5ad74724bd6",
   "metadata": {
    "ExecuteTime": {
     "end_time": "2023-08-15T16:48:44.590579293Z",
     "start_time": "2023-08-15T16:48:44.540319536Z"
    }
   },
   "outputs": [],
   "source": [
    "# Print all models\n",
    "models_dir = Path(\"../models/3-goal-blind-one-hot\")\n",
    "for model_path in sorted(models_dir.glob(\"*.zip\")):\n",
    "    print(model_path.name)"
   ]
  },
  {
   "cell_type": "code",
   "execution_count": null,
   "id": "c91248c2d5119ea9",
   "metadata": {
    "ExecuteTime": {
     "end_time": "2023-08-15T16:49:28.070124961Z",
     "start_time": "2023-08-15T16:49:28.021204781Z"
    }
   },
   "outputs": [],
   "source": [
    "no_green_channel_agent = policy"
   ]
  },
  {
   "cell_type": "code",
   "execution_count": null,
   "id": "4efbadfeb4c036e6",
   "metadata": {
    "ExecuteTime": {
     "end_time": "2023-08-15T17:41:03.492969970Z",
     "start_time": "2023-08-15T17:41:03.429318354Z"
    }
   },
   "outputs": [],
   "source": [
    "name = \"no-red-channel\"\n",
    "path = models_dir / f\"{name}.zip\"\n",
    "if path.exists():\n",
    "    print(\"Loading existing model\")\n",
    "    try:\n",
    "        previous_policy = policy  # Saved, in case I wanted to save it, but forgot to change the name\n",
    "    except NameError: \n",
    "        pass\n",
    "    policy = PPO.load(path)\n",
    "else:\n",
    "    print(f\"Saving model to {path}\")\n",
    "    try:\n",
    "        for m in policy.policy.modules():\n",
    "            if hasattr(m, \"logger\"):\n",
    "                print(\"Removing logger on\", m)\n",
    "                del m.logger\n",
    "        policy.save(path)\n",
    "    except Exception as e:\n",
    "        path.unlink()\n",
    "        # Without this I get TypeError: can't pickle LazyModule objects\n",
    "        # I don't know why, but my hack for the weight_decay seem to interfere with\n",
    "        # their saving mechanism\n",
    "        raise"
   ]
  },
  {
   "cell_type": "markdown",
   "id": "5ae57831fa740ad",
   "metadata": {
    "collapsed": false
   },
   "source": [
    "# Visualize the weights"
   ]
  },
  {
   "cell_type": "code",
   "execution_count": null,
   "id": "9c4133102ea0ef53",
   "metadata": {
    "ExecuteTime": {
     "end_time": "2023-08-15T14:29:53.094495233Z",
     "start_time": "2023-08-15T14:29:53.048292871Z"
    }
   },
   "outputs": [],
   "source": [
    "def imshow(x, symetric: bool = True, **kwargs):\n",
    "    h, w = x.shape[-2:]\n",
    "    if 'facet_col' in kwargs:\n",
    "        wrap = kwargs.get('facet_col_wrap', 1)\n",
    "        h *= np.ceil(x.shape[kwargs['facet_col']] / wrap)\n",
    "        w *= wrap\n",
    "    if symetric:\n",
    "        kwargs.setdefault(\"color_continuous_midpoint\", 0)\n",
    "        kwargs.setdefault(\"color_continuous_scale\", \"RdBu\")\n",
    "    width = 50 + w * 25\n",
    "    height = h * 25 + 50 * ('title' in kwargs)\n",
    "    while width < 500 and height < 500:\n",
    "        width *= 2\n",
    "        height *= 2\n",
    "    new = dict(\n",
    "        width=max(300, width),\n",
    "        height=max(300, height),\n",
    "        facet_row_spacing=0.01,\n",
    "        facet_col_spacing=0.01,\n",
    "    )\n",
    "    kwargs = {**new, **kwargs}\n",
    "    px.imshow(x, **kwargs).show()"
   ]
  },
  {
   "cell_type": "code",
   "execution_count": null,
   "id": "76e157f586e0ba5",
   "metadata": {},
   "outputs": [],
   "source": [
    "switch_biases = policy.policy.mlp_extractor.switch_biases\n",
    "print(\"Biases shape:\", switch_biases.shape)\n",
    "print(\"Max abs bias:\", switch_biases.abs().max(dim=-1).values)\n",
    "imshow(switch_biases, title='Biases of the switch layers')\n"
   ]
  },
  {
   "cell_type": "code",
   "execution_count": null,
   "id": "e14f1569b1d07b04",
   "metadata": {},
   "outputs": [],
   "source": [
    "# Plot the three switch layers\n",
    "\n",
    "switch_layers_weights = policy.policy.mlp_extractor.switch_weights\n",
    "\n",
    "# shape of a switch (out_dim, row, col, obj_type)\n",
    "w1 = einops.rearrange(switch_layers_weights, 'agent out_dim (row col obj_type) -> agent obj_type out_dim row col', row=4, col=4)\n",
    "b1 = einops.repeat(policy.policy.mlp_extractor.switch_biases, 'agent out_dim -> agent 1 out_dim 4 1')\n",
    "\n",
    "avg = w1.mean(dim=0)\n",
    "TYPES = ['empty', 'agent', 'goal_red', 'goal_green', 'goal_blue']\n",
    "EMPTY, AGENT, RED, GREEN, BLUE = range(5)\n",
    "\n",
    "print(w1.shape, avg.shape)\n",
    "# d = w1[:, EMPTY] - avg[EMPTY] \n",
    "d = avg\n",
    "\n",
    "d = w1[..., :-3]\n",
    "print(d.shape)\n",
    "# Add one black col\n",
    "d = torch.cat([d, torch.zeros(*d.shape[:-1], 1) + float('nan')], dim=-1)\n",
    "d = torch.cat([d, torch.zeros(*d.shape[:-2], 1, d.shape[-1]) + float('nan')], dim=-2)\n",
    "d = einops.rearrange(d, 'agent obj out row col -> out (agent row) (obj col)')[..., :-1, :]\n",
    "b1 = torch.cat([b1, torch.zeros(*b1.shape[:-2], 1, b1.shape[-1]) + float('nan')], dim=-2)\n",
    "b1 = einops.rearrange(b1, 'agent obj out row col -> out (agent row) (obj col)')[..., :-1, :]\n",
    "print(d.shape, b1.shape)\n",
    "d = torch.cat([d, b1], dim=-1)\n",
    "# Remove weights close to zero\n",
    "# d[abs(d) < 0.1] = float('nan')\n",
    "imshow(d[:16], title='First layer weights', facet_col=0, facet_col_wrap=4,\n",
    "          # height=4000,\n",
    "          # width=None,\n",
    "          )\n"
   ]
  },
  {
   "cell_type": "code",
   "execution_count": null,
   "id": "451389ecd3d25bf5",
   "metadata": {},
   "outputs": [],
   "source": [
    "imshow(w1.flatten(2).mean(dim=2),\n",
    "          title=\"Mean of the weights of the switch layers\",\n",
    "          labels=dict(x=\"Object type\", y=\"Agent\"),\n",
    "       symetric=False,\n",
    "          )\n",
    "imshow(w1.flatten(2).abs().mean(dim=2), \n",
    "          title=\"Mean absolute value of the weights of the switch layers\",\n",
    "          labels=dict(x=\"Object type\", y=\"Agent\"),\n",
    "       symetric=False,\n",
    "          )\n",
    "imshow(w1.flatten(2).std(dim=2),\n",
    "            title=\"Std of the weights of the switch layers\",\n",
    "            labels=dict(x=\"Object type\", y=\"Agent\"),\n",
    "       symetric=False,\n",
    "          )\n"
   ]
  },
  {
   "cell_type": "code",
   "execution_count": null,
   "id": "675396154733477f",
   "metadata": {},
   "outputs": [],
   "source": [
    "last_layer: torch.nn.Linear = policy.policy.action_net\n",
    "last_weights = last_layer.weight.detach().cpu().clone()\n",
    "last_bias = last_layer.bias.detach().cpu().clone()\n",
    "net = policy.policy.mlp_extractor.policy_net.module\n",
    "\n",
    "weights = torch.cat([\n",
    "    last_weights.T @ net.switches[i].weight.detach().cpu().clone()\n",
    "    for i in range(3)\n",
    "], dim=0)\n",
    "imshow(weights)\n",
    "\n",
    "biases = torch.stack([net.switches[i].bias.detach().cpu() for i in range(3)], dim=1)\n",
    "imshow(biases)"
   ]
  },
  {
   "cell_type": "code",
   "execution_count": null,
   "id": "18b34be96b254156",
   "metadata": {},
   "outputs": [],
   "source": [
    "# compute correlations between rows of w2\n",
    "w2 = net.post_switch[1].weight.detach().cpu().clone()  # (64, 64)\n",
    "imshow(w2)\n",
    "w2 = w2 / w2.norm(dim=1, keepdim=True)\n",
    "corr = w2 @ w2.T\n",
    "\n",
    "# Cluster the correlations matrix\n",
    "import scipy.cluster.hierarchy as sch\n",
    "import scipy.spatial.distance as ssd\n",
    "import plotly.figure_factory as ff\n",
    "\n",
    "# Compute and plot first dendrogram.\n",
    "fig = ff.create_dendrogram(\n",
    "    corr.numpy(),\n",
    "    orientation='left',\n",
    "    labels=list(range(64)),\n",
    "    linkagefun=lambda x: sch.linkage(x, 'single'),\n",
    "    distfun=lambda x: ssd.pdist(x, 'euclidean'),\n",
    ")\n",
    "fig.update_layout(width=1000, height=1000)\n",
    "fig.show()\n",
    "\n",
    "# Remove the diagonal\n",
    "corr[range(64), range(64)] = float('nan')\n",
    "px.imshow(corr, width=1000, height=1000)"
   ]
  },
  {
   "cell_type": "markdown",
   "id": "d7d24673e959d72d",
   "metadata": {
    "collapsed": false
   },
   "source": [
    "# Looking at the activations"
   ]
  },
  {
   "cell_type": "code",
   "execution_count": null,
   "id": "60bd6cf7362bd994",
   "metadata": {},
   "outputs": [],
   "source": [
    "envs: list[M.ThreeGoalsEnv]\n",
    "n = 5000\n",
    "envs = [add_wrappers(M.ThreeGoalsEnv.constant(), disabled=False) for _ in range(n)]\n",
    "inputs = [env.reset()[0] for env in envs]\n",
    "with M.record_activations(policy.policy) as cache:\n",
    "    for i in inputs:\n",
    "        policy.predict(i)\n",
    "        \n",
    "print(cache)"
   ]
  },
  {
   "cell_type": "code",
   "execution_count": null,
   "id": "9a55c213b058b5eb",
   "metadata": {},
   "outputs": [],
   "source": [
    "observations = np.stack([obs['obs'] for obs in inputs])\n",
    "switches = np.stack([obs['switch'] for obs in inputs])\n",
    "print(\"Observations shape:\", observations.shape)\n",
    "print(\"Switches shape:\", switches.shape)"
   ]
  },
  {
   "cell_type": "code",
   "execution_count": null,
   "id": "62f7feb120e25b8",
   "metadata": {},
   "outputs": [],
   "source": [
    "goal_positions = torch.tensor([e.goal_positions for e in envs])\n",
    "agent_positions = torch.tensor([e.agent_pos for e in envs])\n",
    "red_goals = goal_positions[:, 0]\n",
    "green_goals = goal_positions[:, 1]\n",
    "blue_goals = goal_positions[:, 2]"
   ]
  },
  {
   "cell_type": "code",
   "execution_count": null,
   "id": "d417f1c39b6b80d",
   "metadata": {},
   "outputs": [],
   "source": [
    "# Find the correlation between each act and red_goal.x\n",
    "def one_hot_encode(arr, maxi=4):\n",
    "    # Set up one-hot encoding array\n",
    "    one_hot = np.zeros((*arr.shape, maxi))\n",
    "    # Populate the one-hot encoding array        \n",
    "    np.put_along_axis(one_hot, arr[..., None], 1, axis=-1)\n",
    "    return one_hot\n",
    "\n",
    "# to_check = goal_positions.flatten(1)\n",
    "# to_check = one_hot_encode(to_check)\n",
    "to_check = np.concatenate([\n",
    "    goal_positions.flatten(1),\n",
    "    agent_positions], \n",
    "    axis=-1)\n",
    "\n",
    "for name in (\"switches.0\", \"switches.1\"):\n",
    "    act = cache[name]\n",
    "    corrs = np.corrcoef(act, to_check, rowvar=False)\n",
    "    # remove the diagonal\n",
    "    corrs[range(corrs.shape[0]), range(corrs.shape[0])] = 0\n",
    "    imshow(corrs[32:])"
   ]
  },
  {
   "cell_type": "code",
   "execution_count": null,
   "id": "b3100b8c45e5d44f",
   "metadata": {},
   "outputs": [],
   "source": [
    "corr_red_blind = np.corrcoef(cache['switches.0'], goal_positions[:, 0], rowvar=False)\n",
    "corr_blue_color = np.corrcoef(cache['switches.1'], goal_positions[:, 2], rowvar=False)\n",
    "corr_red_blind = corr_red_blind[32:, :-2]\n",
    "corr_blue_color = corr_blue_color[32:, :-2]\n",
    "corrs = einops.rearrange([corr_red_blind, corr_blue_color], \n",
    "                         \"type dim neuron -> (dim type) neuron\")\n",
    "\n",
    "imshow(corrs)\n",
    "imshow(corr_red_blind)\n",
    "imshow(corr_blue_color)"
   ]
  },
  {
   "cell_type": "code",
   "execution_count": null,
   "id": "9a040d6c1950a9d0",
   "metadata": {
    "ExecuteTime": {
     "end_time": "2023-08-15T16:50:33.863027558Z",
     "start_time": "2023-08-15T16:50:33.804783027Z"
    }
   },
   "outputs": [],
   "source": [
    "conv1 = next(m for m in policy.policy.modules() if isinstance(m, torch.nn.Conv2d))\n",
    "with torch.no_grad():\n",
    "    conv1.weight[:, 3] = 0\n"
   ]
  },
  {
   "cell_type": "code",
   "execution_count": null,
   "id": "cc15fad411bb6137",
   "metadata": {
    "ExecuteTime": {
     "end_time": "2023-08-15T18:00:46.887609790Z",
     "start_time": "2023-08-15T18:00:46.751036522Z"
    }
   },
   "outputs": [],
   "source": [
    "def show_first_conv(policy):\n",
    "    conv1 = next(m for m in policy.policy.modules() if isinstance(m, torch.nn.Conv2d))\n",
    "    conv1 = conv1.weight.detach().numpy()\n",
    "    \n",
    "    in_channel_names = [\"Empty\", \"Agent\", \"Red\", \"Green\", \"Blue\"]\n",
    "\n",
    "    # Per channel norms\n",
    "    norms = np.linalg.norm(conv1, axis=(2, 3))\n",
    "    print(np.linalg.norm(conv1))\n",
    "    px.imshow(norms, \n",
    "              title=\"Norms of the weights of the first convolutional layer\",\n",
    "                labels=dict(x=\"Input channel\", y=\"Output channel\"),\n",
    "              x=in_channel_names,\n",
    "              width=500,\n",
    "              **ZERO_CENTERED).show()\n",
    "\n",
    "    conv1 = einops.repeat(conv1, \"out in row col -> out row (in col)\")\n",
    "    px.imshow(conv1, facet_col=0,\n",
    "              **ZERO_CENTERED,\n",
    "              # zmax=2, zmin=-2,\n",
    "              facet_col_wrap=4).show()\n",
    "    \n",
    "    \n",
    "show_first_conv(policy)"
   ]
  },
  {
   "cell_type": "code",
   "execution_count": null,
   "id": "5ab25e0bc205b5cc",
   "metadata": {
    "ExecuteTime": {
     "end_time": "2023-08-15T13:03:08.353215199Z",
     "start_time": "2023-08-15T13:03:08.072149255Z"
    }
   },
   "outputs": [],
   "source": [
    "# Do a PCA on the data\n",
    "import csv\n",
    "import pandas as pd\n",
    "from sklearn.decomposition import PCA\n",
    "\n",
    "file = \"../data.csv\"\n",
    "with open(file, newline='') as csvfile:\n",
    "    reader = csv.DictReader(csvfile)\n",
    "    data = [row for row in reader]\n",
    "    \n",
    "data = pd.DataFrame(data)\n",
    "del data[\"Name\"]\n",
    "del data[\"_wandb\"]\n",
    "data = data.astype(float)\n",
    "x_axis = \"eval/full_color/true_goal_red/end_type_red\"\n",
    "y_axis = \"eval/full_color/true_goal_red/end_type_green\"\n",
    "\n",
    "# Print mean on the x and y axis\n",
    "print(data[x_axis].mean())\n",
    "print(data[y_axis].mean())\n",
    "\n",
    "pca = PCA(n_components=1)\n",
    "fitted = pca.fit_transform(data[[x_axis, y_axis]])\n",
    "\n",
    "px.histogram(fitted, marginal=\"rug\", title=\"PCA histogram\", width=1000).show()\n",
    "\n",
    "px.histogram(data[[x_axis, y_axis]],\n",
    "             barmode=\"overlay\",\n",
    "             marginal=\"rug\",\n",
    "             width=1000,\n",
    "             ).show()\n",
    "                \n",
    "px.histogram(data[x_axis] - data[y_axis],\n",
    "             marginal=\"rug\",\n",
    "             nbins=60\n",
    "             ).show()"
   ]
  }
 ],
 "metadata": {
  "kernelspec": {
   "display_name": "Python 3 (ipykernel)",
   "language": "python",
   "name": "python3"
  },
  "language_info": {
   "codemirror_mode": {
    "name": "ipython",
    "version": 2
   },
   "file_extension": ".py",
   "mimetype": "text/x-python",
   "name": "python",
   "nbconvert_exporter": "python",
   "pygments_lexer": "ipython2",
   "version": "2.7.6"
  }
 },
 "nbformat": 4,
 "nbformat_minor": 5
}
