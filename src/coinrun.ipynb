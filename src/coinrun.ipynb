{
 "cells": [
  {
   "cell_type": "code",
   "execution_count": null,
   "id": "initial_id",
   "metadata": {
    "ExecuteTime": {
     "end_time": "2023-09-08T11:06:25.241413376Z",
     "start_time": "2023-09-08T11:06:25.214973548Z"
    }
   },
   "outputs": [],
   "source": [
    "import torch"
   ]
  },
  {
   "cell_type": "code",
   "execution_count": null,
   "id": "697ac429ebf79e05",
   "metadata": {
    "ExecuteTime": {
     "end_time": "2023-09-08T11:08:40.509776675Z",
     "start_time": "2023-09-08T11:08:40.428327760Z"
    }
   },
   "outputs": [],
   "source": [
    "path = './../cam_fs/train-procgen-pytorch/logs/train/coinrun/coinrun/2023-09-07__19-02-56__seed_6036/model_200015872.pth'"
   ]
  },
  {
   "cell_type": "code",
   "execution_count": null,
   "id": "4ab591c663b0ee3c",
   "metadata": {
    "ExecuteTime": {
     "end_time": "2023-09-08T11:09:05.521219249Z",
     "start_time": "2023-09-08T11:09:02.220116559Z"
    }
   },
   "outputs": [],
   "source": [
    "out = torch.load(path, map_location='cpu')"
   ]
  },
  {
   "cell_type": "code",
   "execution_count": null,
   "id": "f333a36bc14c4dc",
   "metadata": {
    "ExecuteTime": {
     "end_time": "2023-09-08T11:09:39.366745057Z",
     "start_time": "2023-09-08T11:09:39.346506773Z"
    }
   },
   "outputs": [],
   "source": [
    "type(out)\n",
    "list(out)\n",
    "type(out['model_state_dict'])\n",
    "list(out['model_state_dict'])\n"
   ]
  }
 ],
 "metadata": {
  "kernelspec": {
   "display_name": "Python 3",
   "language": "python",
   "name": "python3"
  },
  "language_info": {
   "codemirror_mode": {
    "name": "ipython",
    "version": 2
   },
   "file_extension": ".py",
   "mimetype": "text/x-python",
   "name": "python",
   "nbconvert_exporter": "python",
   "pygments_lexer": "ipython2",
   "version": "2.7.6"
  }
 },
 "nbformat": 4,
 "nbformat_minor": 5
}
