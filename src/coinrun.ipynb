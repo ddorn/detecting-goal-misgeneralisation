{
 "cells": [
  {
   "cell_type": "code",
   "execution_count": null,
   "id": "1e7cba033c832db7",
   "metadata": {
    "ExecuteTime": {
     "end_time": "2023-09-12T13:48:29.613152151Z",
     "start_time": "2023-09-12T13:48:29.518681058Z"
    }
   },
   "outputs": [],
   "source": [
    "import pandas as pd\n",
    "from pathlib import Path\n",
    "import plotly.express as px\n",
    "import plotly.graph_objects as go"
   ]
  },
  {
   "cell_type": "code",
   "execution_count": null,
   "id": "697ac429ebf79e05",
   "metadata": {
    "ExecuteTime": {
     "end_time": "2023-09-12T14:42:43.687492286Z",
     "start_time": "2023-09-12T14:42:43.654608950Z"
    }
   },
   "outputs": [],
   "source": [
    "train_random_percents = [0.0, 0.5, 1.0, 1.5, 2.0]\n",
    "paths = [\n",
    "    Path(f\"/home/diego/ai/kasl/cam_fs/train-procgen-pytorch/logs/eval/coinrun/coinrun/models/eval-{percent:.1f}.csv\")\n",
    "    for percent in train_random_percents\n",
    "]\n",
    "for path in paths:\n",
    "    print(path)\n",
    "    assert path.exists()"
   ]
  },
  {
   "cell_type": "code",
   "execution_count": null,
   "id": "393dfacaabd08bdc",
   "metadata": {
    "ExecuteTime": {
     "end_time": "2023-09-12T14:42:44.432719381Z",
     "start_time": "2023-09-12T14:42:44.392437964Z"
    }
   },
   "outputs": [],
   "source": [
    "path = paths[0]\n",
    "df = pd.read_csv(path)\n",
    "df"
   ]
  },
  {
   "cell_type": "code",
   "execution_count": null,
   "id": "591df161382f4c2c",
   "metadata": {
    "ExecuteTime": {
     "end_time": "2023-09-12T14:42:45.628512998Z",
     "start_time": "2023-09-12T14:42:45.452560991Z"
    }
   },
   "outputs": [],
   "source": [
    "dfs = [pd.read_csv(path) for path in paths]"
   ]
  },
  {
   "cell_type": "code",
   "execution_count": null,
   "id": "1d07309e4ea62930",
   "metadata": {
    "ExecuteTime": {
     "end_time": "2023-09-12T15:00:27.517141211Z",
     "start_time": "2023-09-12T15:00:27.405203444Z"
    }
   },
   "outputs": [],
   "source": [
    "stats = [\n",
    "    [(df['coin_collected'] == i).mean() for i in (-1, 1, 0)]\n",
    "    for df in dfs\n",
    "]\n",
    "labels = [\"Reached end\", \"Collected coin\", \"Died/timeout\"]\n",
    "# colors = ['green', 'blue', 'red']\n",
    "# Use plotly colors instead. See https://plotly.com/python/discrete-color/\n",
    "colors = px.colors.qualitative.Plotly\n",
    "colors = [colors[i] for i in [1, 7, 0]]\n",
    "colors[-1] = 'black'\n",
    "\n",
    "# Plot cumulative distribution\n",
    "# Since the three stats add up to 1, we can plot them as a stacked area chart\n",
    "fig = go.Figure()\n",
    "for i, label in enumerate(labels):\n",
    "    fig.add_trace(go.Scatter(\n",
    "        x=train_random_percents,\n",
    "        y=[stat[i] for stat in stats],\n",
    "        mode='lines',\n",
    "        name=label,\n",
    "        stackgroup='one',\n",
    "        groupnorm='percent',  # sets the normalization for the sum of the stackgroup\n",
    "        line=dict(color=colors[i]),\n",
    "    ))\n",
    "fig.update_layout(\n",
    "    title=\"Coinrun: Percentage of episodes with each outcome\",\n",
    "    xaxis_title=\"Percentage of training episodes with randomly placed coin\",\n",
    "    yaxis_title=\"Percentage of episodes\",\n",
    "    legend_title=\"Outcome\",\n",
    "    font=dict(\n",
    "        family=\"Monaco\",\n",
    "        size=18,\n",
    "    )\n",
    ")\n",
    "fig.show()"
   ]
  },
  {
   "cell_type": "code",
   "execution_count": null,
   "id": "54c153eda2e8d58f",
   "metadata": {},
   "outputs": [],
   "source": []
  }
 ],
 "metadata": {
  "kernelspec": {
   "display_name": "Python 3",
   "language": "python",
   "name": "python3"
  },
  "language_info": {
   "codemirror_mode": {
    "name": "ipython",
    "version": 2
   },
   "file_extension": ".py",
   "mimetype": "text/x-python",
   "name": "python",
   "nbconvert_exporter": "python",
   "pygments_lexer": "ipython2",
   "version": "2.7.6"
  }
 },
 "nbformat": 4,
 "nbformat_minor": 5
}
