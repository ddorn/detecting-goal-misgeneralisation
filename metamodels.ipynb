{
 "cells": [
  {
   "cell_type": "markdown",
   "metadata": {
    "collapsed": false
   },
   "source": [
    "# Meta models investigation\n",
    "\n",
    "The goal of this notebook is to understand which architecture can learn things about neural networks (NN).\n",
    "Having NN as imput is a very different data type than images, text or tabular data, so we might need different processing layers to extract meaning from them.\n",
    "\n",
    "## Permutation of matrices\n",
    "In NN, one can permute a lot of the hidden activations (all activations in an MLP, channels in a CNN, ...) and still have the same network.\n",
    "\n",
    "The goal here is to train a NN with:\n",
    "- two matrices as input, $A$ and $B$\n",
    "- ouput is whether is a permutation of the rows and colums of the first, that is, if there are permutation matrices $P, Q$ such that $A = PBQ$."
   ]
  },
  {
   "cell_type": "code",
   "execution_count": null,
   "metadata": {
    "ExecuteTime": {
     "end_time": "2023-07-28T19:07:33.053734155Z",
     "start_time": "2023-07-28T19:07:31.285407352Z"
    }
   },
   "outputs": [],
   "source": [
    "import torch\n",
    "import torch.nn as nn\n",
    "from torch import Tensor\n",
    "import plotly.express as px\n",
    "\n",
    "from jaxtyping import Float, Int, Bool"
   ]
  },
  {
   "cell_type": "code",
   "execution_count": null,
   "metadata": {
    "ExecuteTime": {
     "end_time": "2023-07-28T19:07:33.565911862Z",
     "start_time": "2023-07-28T19:07:33.553822939Z"
    }
   },
   "outputs": [],
   "source": [
    "def permute_rows_and_cols(matrix: Float[Tensor, \"*batch rows cols\"]) -> Float[Tensor, \"*batch rows cols\"]:\n",
    "    \"\"\"\n",
    "    Permutes randomly the rows and columns of the input matrix.\n",
    "    \"\"\"\n",
    "    *batch, rows, cols = matrix.shape\n",
    "    row_perm = torch.randperm(rows)\n",
    "    col_perm = torch.randperm(cols)\n",
    "    return matrix[..., row_perm, :][..., :, col_perm]\n",
    "\n",
    "\n",
    "def shuffle_matrix(matrix: Float[Tensor, \"*batch rows cols\"]) -> Float[Tensor, \"*batch rows cols\"]:\n",
    "    \"\"\"\n",
    "    Shuffles all the elements of the matrix.\n",
    "    \"\"\"\n",
    "    *batch, rows, cols = matrix.shape\n",
    "    perm = torch.randperm(rows * cols)\n",
    "    matrix = matrix.view(*batch, -1)\n",
    "    return matrix[..., perm].view(*batch, rows, cols)\n",
    "\n",
    "def gen_training_data(batch_size: int, mat_size: int, noise: float = 0.0) -> tuple[Float[Tensor, \"batch 2 rows cols\"], Bool[Tensor, \"batch\"]]:\n",
    "    \"\"\"\n",
    "    Generates a batch of training data.\n",
    "    \"\"\"\n",
    "    A = torch.rand(batch_size, mat_size, mat_size)\n",
    "\n",
    "    permuted = permute_rows_and_cols(A)\n",
    "    shuffled = shuffle_matrix(A)\n",
    "\n",
    "    to_permute = torch.rand(batch_size) > 0.5\n",
    "    B = torch.where(to_permute.view(-1, 1, 1), permuted, shuffled)\n",
    "\n",
    "    if noise > 0:\n",
    "        A += torch.randn_like(A) * noise\n",
    "        B += torch.randn_like(B) * noise\n",
    "\n",
    "    x = torch.stack([A, B], dim=1)\n",
    "    return x, to_permute\n",
    "\n",
    "def get_accuracy(model: nn.Module, mat_size: int, n_epochs: int = 1000, batch_size: int = 100) -> float:\n",
    "    \"\"\"\n",
    "    Computes the accuracy of the model on the task of predicting if two matrices are permutations of each other.\n",
    "    \"\"\"\n",
    "    n_correct = 0\n",
    "    for _ in range(n_epochs):\n",
    "        x, y = gen_training_data(batch_size, mat_size)\n",
    "        y_pred = model(x)\n",
    "        n_correct += ((y_pred > 0.5) == y.view(-1, 1)).sum().item()\n",
    "\n",
    "    return n_correct / (n_epochs * batch_size)\n",
    "\n",
    "def find_closed_row_col_perm(matrix: Float[Tensor, \"row col\"], target: Float[Tensor, \"row col\"]) -> Float[Tensor, \"row col\"]:\n",
    "    \"\"\"\n",
    "    Finds the row and column permutations that minimize the distance between the matrix and the target.\n",
    "    \"\"\"\n",
    "\n",
    "    mat_size = matrix.shape[0]\n",
    "\n",
    "    best = None\n",
    "    dist_best = float(\"inf\")\n",
    "\n",
    "    for row_perm in itertools.permutations(range(mat_size)):\n",
    "        for col_perm in itertools.permutations(range(mat_size)):\n",
    "            permuted = matrix[row_perm, :][:, col_perm]\n",
    "            dist = ((permuted - target).abs()).sum()\n",
    "            if dist < dist_best:\n",
    "                best = permuted\n",
    "                dist_best = dist\n",
    "    return best\n"
   ]
  },
  {
   "cell_type": "code",
   "execution_count": null,
   "metadata": {
    "ExecuteTime": {
     "end_time": "2023-07-28T19:07:34.130049169Z",
     "start_time": "2023-07-28T19:07:34.122171336Z"
    }
   },
   "outputs": [],
   "source": [
    "m = torch.arange(9).view(3, 3)\n",
    "print(m)\n",
    "print(permute_rows_and_cols(m))\n",
    "print(shuffle_matrix(m))\n",
    "print(gen_training_data(2, 3, 0.1))"
   ]
  },
  {
   "cell_type": "code",
   "execution_count": null,
   "metadata": {
    "ExecuteTime": {
     "end_time": "2023-07-28T19:07:48.334174131Z",
     "start_time": "2023-07-28T19:07:48.311663944Z"
    }
   },
   "outputs": [],
   "source": [
    "def make_mlp(hidden_multipliers: list[int], mat_size: int) -> nn.Module:\n",
    "    dim = 2 * mat_size ** 2\n",
    "    dims = [dim] + [dim * m for m in hidden_multipliers] + [1]\n",
    "    layers = [\n",
    "        layer\n",
    "        for dim_in, dim_out in zip(dims[:-1], dims[1:])\n",
    "        for layer in [nn.Linear(dim_in, dim_out), nn.ReLU()]\n",
    "    ]\n",
    "    return nn.Sequential(nn.Flatten(), *layers[:-1], nn.Sigmoid())\n",
    "\n",
    "make_mlp([4], 4)"
   ]
  },
  {
   "cell_type": "code",
   "execution_count": null,
   "metadata": {
    "ExecuteTime": {
     "end_time": "2023-07-29T10:22:17.474787209Z",
     "start_time": "2023-07-28T19:07:54.306198376Z"
    }
   },
   "outputs": [],
   "source": [
    "# Training loop\n",
    "from tqdm.notebook import tqdm\n",
    "from torch.optim import AdamW\n",
    "import wandb\n",
    "\n",
    "\n",
    "MAT_SIZE = 3\n",
    "batch_size = 100\n",
    "n_epochs = 300_000\n",
    "lr = 1e-3\n",
    "use_wandb = True\n",
    "noise = 0.01\n",
    "hidden_multipliers = [4, 4]\n",
    "weight_decay = 1e-4\n",
    "loss_fn = nn.BCELoss()\n",
    "\n",
    "new_run = True\n",
    "if new_run:\n",
    "    model = make_mlp(hidden_multipliers, MAT_SIZE)\n",
    "    optimizer = AdamW(model.parameters(), lr=lr, weight_decay=weight_decay)\n",
    "\n",
    "    if use_wandb:\n",
    "        wandb.init(project=\"meta-models\", config={\n",
    "        \"batch_size\": batch_size,\n",
    "        \"n_epochs\": n_epochs,\n",
    "        \"lr\": lr,\n",
    "        \"weight_decay\": weight_decay,\n",
    "        \"mat_size\": MAT_SIZE,\n",
    "        \"noise\": noise,\n",
    "        \"hidden_multipliers\": hidden_multipliers,\n",
    "        \"nb_hidden_layers\": len(hidden_multipliers),\n",
    "        \"nb_params\": sum(p.numel() for p in model.parameters())\n",
    "    })\n",
    "\n",
    "for epoch in tqdm(range(n_epochs)):\n",
    "    optimizer.zero_grad()\n",
    "    x, y = gen_training_data(batch_size, MAT_SIZE, noise=noise)\n",
    "    y_pred = model(x)\n",
    "    loss = loss_fn(y_pred, y.view(-1, 1).float())\n",
    "    loss.backward()\n",
    "    optimizer.step()\n",
    "    if use_wandb:\n",
    "        wandb.log({\"loss\": loss.item()})\n",
    "\n",
    "    if epoch % 1_000 == 0:\n",
    "        accuracy = get_accuracy(model, MAT_SIZE, 20)\n",
    "        if use_wandb:\n",
    "            wandb.log({\"accuracy\": accuracy})\n",
    "        else:\n",
    "            print(f\"Epoch {epoch}: accuracy {accuracy:.3f}\")"
   ]
  },
  {
   "cell_type": "code",
   "execution_count": null,
   "metadata": {
    "ExecuteTime": {
     "end_time": "2023-07-29T11:05:26.900601983Z",
     "start_time": "2023-07-29T11:05:26.394586397Z"
    }
   },
   "outputs": [],
   "source": [
    "accuracy = get_accuracy(model, MAT_SIZE)\n",
    "print(accuracy)"
   ]
  },
  {
   "cell_type": "code",
   "execution_count": null,
   "metadata": {
    "ExecuteTime": {
     "end_time": "2023-07-29T11:10:41.452371142Z",
     "start_time": "2023-07-29T11:10:41.093066863Z"
    }
   },
   "outputs": [],
   "source": [
    "from pathlib import Path\n",
    "\n",
    "models_dir = Path(\"models\")\n",
    "models_dir.mkdir(exist_ok=True)\n",
    "idx = len(list(models_dir.glob(\"*.pt\"))) + 1\n",
    "arch_str = \"_\".join(map(str, hidden_multipliers))\n",
    "name = f\"models/permutation-of-matrices-noisy-{MAT_SIZE}x{MAT_SIZE}-{accuracy*100:.0f}acc-{arch_str}arch-{idx}.pt\"\n",
    "\n",
    "torch.save(model, name)\n",
    "print(f\"Saved model to {name}\")"
   ]
  },
  {
   "cell_type": "markdown",
   "metadata": {
    "collapsed": false
   },
   "source": [
    "Now we compute the \"per permutation accuracy\", that is how frequently is the model correct when it predicts a permutation."
   ]
  },
  {
   "cell_type": "code",
   "execution_count": null,
   "metadata": {
    "ExecuteTime": {
     "end_time": "2023-07-29T11:08:51.038268447Z",
     "start_time": "2023-07-29T11:08:50.528350994Z"
    }
   },
   "outputs": [],
   "source": [
    "import itertools\n",
    "from dataclasses import dataclass\n",
    "\n",
    "@dataclass\n",
    "class Result:\n",
    "    row_perm: list[int]\n",
    "    col_perm: list[int]\n",
    "    correct: int\n",
    "    incorrect: int\n",
    "    predictions: list[bool]\n",
    "\n",
    "    @property\n",
    "    def accuracy(self):\n",
    "        return self.correct / (self.correct + self.incorrect)\n",
    "\n",
    "n_epochs = 10\n",
    "batch_size = 100\n",
    "results = []\n",
    "for row_perm in tqdm(itertools.permutations(range(MAT_SIZE))):\n",
    "    for col_perm in itertools.permutations(range(MAT_SIZE)):\n",
    "        result = Result(row_perm, col_perm, 0, 0, [])\n",
    "        for _ in range(n_epochs):\n",
    "            x, y = gen_training_data(batch_size, MAT_SIZE)\n",
    "            x[..., 1, :, :] = x[..., 0, row_perm, :]\n",
    "            x[..., 1, :, :] = x[..., 1, :, col_perm]\n",
    "            y[...] = True\n",
    "            y_pred = model(x)\n",
    "            y = y.view(-1, 1)\n",
    "            correct = ((y_pred > 0.5) == y).sum().item()\n",
    "            result.correct += correct\n",
    "            result.incorrect += batch_size - correct\n",
    "            result.predictions.extend(y_pred.view(-1).tolist())\n",
    "        results.append(result)\n",
    "        print(f\"Accuracy for {row_perm} and {col_perm}: {result.accuracy:.3f}\")\n",
    "\n"
   ]
  },
  {
   "cell_type": "code",
   "execution_count": null,
   "metadata": {
    "ExecuteTime": {
     "end_time": "2023-07-28T18:06:53.848385663Z",
     "start_time": "2023-07-28T18:06:53.430831064Z"
    }
   },
   "outputs": [],
   "source": [
    "import math\n",
    "nb_permutations = math.factorial(MAT_SIZE) ** 2\n",
    "nb_shuffles = math.factorial(MAT_SIZE ** 2)\n",
    "\n",
    "max_possible_accuracy = nb_permutations / nb_shuffles\n",
    "\n",
    "print(f\"Max possible accuracy: {max_possible_accuracy}\")\n",
    "print(f\"Nb permutations: {nb_permutations}\")\n",
    "print(f\"Nb shuffles: {nb_shuffles}\")"
   ]
  },
  {
   "cell_type": "code",
   "execution_count": null,
   "metadata": {},
   "outputs": [],
   "source": [
    "# Computing the baseline from `find_closed_row_col_perm`"
   ]
  },
  {
   "cell_type": "code",
   "execution_count": null,
   "metadata": {
    "ExecuteTime": {
     "end_time": "2023-07-29T11:09:01.587671045Z",
     "start_time": "2023-07-29T11:09:00.950168056Z"
    }
   },
   "outputs": [],
   "source": [
    "# Find input on which the model is wrong\n",
    "x, y = gen_training_data(10000, MAT_SIZE)\n",
    "y_pred = model(x)\n",
    "wrong = (y_pred > 0.5).flatten() != y\n",
    "idx_wrong = wrong.nonzero(as_tuple=True)[0]\n",
    "x = x[idx_wrong]\n",
    "\n",
    "x: Tensor = torch.cat((x, torch.zeros_like(x)), dim=1)\n",
    "for a, b, c, d in x:\n",
    "    c[...] = find_closed_row_col_perm(a, b)\n",
    "    d[...] = b - c\n",
    "\n",
    "worst: Tensor = x[:, 3].flatten(1).abs().max(dim=1).values\n",
    "worst = worst.max(dim=0).indices.item()\n",
    "x = x[worst:worst+1]\n",
    "\n",
    "px.imshow(\n",
    "    x.flatten(0, 1),\n",
    "          facet_col=0, facet_col_wrap=4,\n",
    "          height=400 * len(x), width=1200\n",
    "          ).show()\n",
    "\n"
   ]
  },
  {
   "cell_type": "code",
   "execution_count": null,
   "metadata": {
    "ExecuteTime": {
     "end_time": "2023-07-28T18:38:36.957975448Z",
     "start_time": "2023-07-28T18:38:36.706529594Z"
    }
   },
   "outputs": [],
   "source": []
  },
  {
   "cell_type": "code",
   "execution_count": null,
   "metadata": {},
   "outputs": [],
   "source": []
  }
 ],
 "metadata": {
  "kernelspec": {
   "display_name": "Python 3",
   "language": "python",
   "name": "python3"
  },
  "language_info": {
   "codemirror_mode": {
    "name": "ipython",
    "version": 2
   },
   "file_extension": ".py",
   "mimetype": "text/x-python",
   "name": "python",
   "nbconvert_exporter": "python",
   "pygments_lexer": "ipython2",
   "version": "2.7.6"
  }
 },
 "nbformat": 4,
 "nbformat_minor": 0
}
